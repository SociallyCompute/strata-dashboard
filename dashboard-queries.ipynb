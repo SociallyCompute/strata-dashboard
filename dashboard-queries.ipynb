{
 "cells": [
  {
   "cell_type": "markdown",
   "id": "e14007d9-f89d-45e5-ad70-003751ad445b",
   "metadata": {},
   "source": [
    "# Library"
   ]
  },
  {
   "cell_type": "code",
   "execution_count": 1,
   "id": "d12a7300-5f35-44bc-b2a2-643ed60ece3f",
   "metadata": {},
   "outputs": [],
   "source": [
    "from dotenv import load_dotenv\n",
    "import os\n",
    "from pymongo import MongoClient\n",
    "from datetime import timedelta"
   ]
  },
  {
   "cell_type": "markdown",
   "id": "0f84b5e1-88c6-45c7-b295-e9ae9069400b",
   "metadata": {},
   "source": [
    "# Connect to the server"
   ]
  },
  {
   "cell_type": "code",
   "execution_count": 2,
   "id": "e5a84f23-96b3-481a-bb5b-fafef52dcc93",
   "metadata": {},
   "outputs": [
    {
     "name": "stdout",
     "output_type": "stream",
     "text": [
      "Connected OK!\n"
     ]
    }
   ],
   "source": [
    "load_dotenv()\n",
    "\n",
    "uri = os.getenv(\"MONGODB_URI\")\n",
    "client = MongoClient(uri)\n",
    "client.admin.command(\"ping\")\n",
    "print(\"Connected OK!\")"
   ]
  },
  {
   "cell_type": "code",
   "execution_count": 3,
   "id": "9c7d3767-4e22-4b0f-bfd7-7b9cfb346f36",
   "metadata": {},
   "outputs": [],
   "source": [
    "db = client[os.getenv(\"DB_NAME\")]\n",
    "coll = db[os.getenv(\"COLL_NAME\")]"
   ]
  },
  {
   "cell_type": "markdown",
   "id": "7a406be6-6031-4db5-82dc-ee9c79c0d20b",
   "metadata": {},
   "source": [
    "# Some simple queries"
   ]
  },
  {
   "cell_type": "code",
   "execution_count": 4,
   "id": "77685cea-1df6-44c5-8ebd-bb85c577f2b0",
   "metadata": {},
   "outputs": [
    {
     "data": {
      "text/plain": [
       "{'_id': ObjectId('680ac83630fef610e321edb3'),\n",
       " 'game': 'mhs',\n",
       " 'player_id': 'test_player1',\n",
       " 'timestamp': datetime.datetime(2025, 4, 24, 23, 24, 38, 277000),\n",
       " 'event_type': 'test_event1',\n",
       " 'event_data': {'enemy_type': 'bug', 'damage': 100.0},\n",
       " 'device_info': {'platform': 'WebGL', 'browser': 'Chrome'}}"
      ]
     },
     "execution_count": 4,
     "metadata": {},
     "output_type": "execute_result"
    }
   ],
   "source": [
    "doc = coll.find_one()\n",
    "doc"
   ]
  },
  {
   "cell_type": "code",
   "execution_count": 5,
   "id": "866f48d6-8c31-40ef-a1de-e22142506d6e",
   "metadata": {},
   "outputs": [],
   "source": [
    "cursor = coll.find(\n",
    "    {\"player_id\": \"wenyi3@mhs\", \"event_type\": \"DialogueEvent\", \n",
    "     \"$and\":[{\"event_data\": {\"$regex\": r'\"dialogueEventType\"\\s*:\\s*\"DialogueNodeEvent\"'}}]}\n",
    ")"
   ]
  },
  {
   "cell_type": "code",
   "execution_count": 6,
   "id": "fc2997cf-c13d-4107-bebe-977a0a7de98a",
   "metadata": {},
   "outputs": [
    {
     "data": {
      "text/plain": [
       "[{'_id': ObjectId('688392bf72ebf4f11406847a'),\n",
       "  'game': 'mhs',\n",
       "  'player_id': 'wenyi3@mhs',\n",
       "  'timestamp': datetime.datetime(2025, 7, 25, 14, 20, 47, 649000),\n",
       "  'event_type': 'DialogueEvent',\n",
       "  'event_data': '{\"dialogueEventType\":\"DialogueNodeEvent\",\"conversationId\":\"30\",\"nodeId\":\"95\"}',\n",
       "  'device_info': {'platform': 'WebGLPlayer', 'browser': 'WebGL_Browser'}},\n",
       " {'_id': ObjectId('6883953a72ebf4f114068508'),\n",
       "  'game': 'mhs',\n",
       "  'player_id': 'wenyi3@mhs',\n",
       "  'timestamp': datetime.datetime(2025, 7, 25, 14, 31, 22, 380000),\n",
       "  'event_type': 'DialogueEvent',\n",
       "  'event_data': '{\"dialogueEventType\":\"DialogueNodeEvent\",\"conversationId\":\"31\",\"nodeId\":\"72\"}',\n",
       "  'device_info': {'platform': 'WebGLPlayer', 'browser': 'WebGL_Browser'}},\n",
       " {'_id': ObjectId('6883953b72ebf4f11406850a'),\n",
       "  'game': 'mhs',\n",
       "  'player_id': 'wenyi3@mhs',\n",
       "  'timestamp': datetime.datetime(2025, 7, 25, 14, 31, 23, 47000),\n",
       "  'event_type': 'DialogueEvent',\n",
       "  'event_data': '{\"dialogueEventType\":\"DialogueNodeEvent\",\"conversationId\":\"31\",\"nodeId\":\"73\"}',\n",
       "  'device_info': {'browser': 'WebGL_Browser', 'platform': 'WebGLPlayer'}},\n",
       " {'_id': ObjectId('6883953b72ebf4f11406850b'),\n",
       "  'game': 'mhs',\n",
       "  'player_id': 'wenyi3@mhs',\n",
       "  'timestamp': datetime.datetime(2025, 7, 25, 14, 31, 23, 547000),\n",
       "  'event_type': 'DialogueEvent',\n",
       "  'event_data': '{\"dialogueEventType\":\"DialogueNodeEvent\",\"conversationId\":\"31\",\"nodeId\":\"74\"}',\n",
       "  'device_info': {'browser': 'WebGL_Browser', 'platform': 'WebGLPlayer'}},\n",
       " {'_id': ObjectId('6883953d72ebf4f11406850c'),\n",
       "  'game': 'mhs',\n",
       "  'player_id': 'wenyi3@mhs',\n",
       "  'timestamp': datetime.datetime(2025, 7, 25, 14, 31, 25, 548000),\n",
       "  'event_type': 'DialogueEvent',\n",
       "  'event_data': '{\"dialogueEventType\":\"DialogueNodeEvent\",\"conversationId\":\"31\",\"nodeId\":\"75\"}',\n",
       "  'device_info': {'platform': 'WebGLPlayer', 'browser': 'WebGL_Browser'}},\n",
       " {'_id': ObjectId('6883928972ebf4f114068461'),\n",
       "  'game': 'mhs',\n",
       "  'player_id': 'wenyi3@mhs',\n",
       "  'timestamp': datetime.datetime(2025, 7, 25, 14, 19, 53, 719000),\n",
       "  'event_type': 'DialogueEvent',\n",
       "  'event_data': '{\"dialogueEventType\":\"DialogueNodeEvent\",\"conversationId\":\"30\",\"nodeId\":\"1\"}',\n",
       "  'device_info': {'platform': 'WebGLPlayer', 'browser': 'WebGL_Browser'}},\n",
       " {'_id': ObjectId('6883928d72ebf4f114068463'),\n",
       "  'game': 'mhs',\n",
       "  'player_id': 'wenyi3@mhs',\n",
       "  'timestamp': datetime.datetime(2025, 7, 25, 14, 19, 57, 555000),\n",
       "  'event_type': 'DialogueEvent',\n",
       "  'event_data': '{\"dialogueEventType\":\"DialogueNodeEvent\",\"conversationId\":\"30\",\"nodeId\":\"2\"}',\n",
       "  'device_info': {'browser': 'WebGL_Browser', 'platform': 'WebGLPlayer'}},\n",
       " {'_id': ObjectId('6883929272ebf4f114068464'),\n",
       "  'game': 'mhs',\n",
       "  'player_id': 'wenyi3@mhs',\n",
       "  'timestamp': datetime.datetime(2025, 7, 25, 14, 20, 2, 495000),\n",
       "  'event_type': 'DialogueEvent',\n",
       "  'event_data': '{\"dialogueEventType\":\"DialogueNodeEvent\",\"conversationId\":\"30\",\"nodeId\":\"5\"}',\n",
       "  'device_info': {'platform': 'WebGLPlayer', 'browser': 'WebGL_Browser'}},\n",
       " {'_id': ObjectId('6883929472ebf4f114068465'),\n",
       "  'game': 'mhs',\n",
       "  'player_id': 'wenyi3@mhs',\n",
       "  'timestamp': datetime.datetime(2025, 7, 25, 14, 20, 4, 176000),\n",
       "  'event_type': 'DialogueEvent',\n",
       "  'event_data': '{\"dialogueEventType\":\"DialogueNodeEvent\",\"conversationId\":\"30\",\"nodeId\":\"7\"}',\n",
       "  'device_info': {'platform': 'WebGLPlayer', 'browser': 'WebGL_Browser'}},\n",
       " {'_id': ObjectId('6883929672ebf4f114068466'),\n",
       "  'game': 'mhs',\n",
       "  'player_id': 'wenyi3@mhs',\n",
       "  'timestamp': datetime.datetime(2025, 7, 25, 14, 20, 6, 877000),\n",
       "  'event_type': 'DialogueEvent',\n",
       "  'event_data': '{\"dialogueEventType\":\"DialogueNodeEvent\",\"conversationId\":\"30\",\"nodeId\":\"8\"}',\n",
       "  'device_info': {'platform': 'WebGLPlayer', 'browser': 'WebGL_Browser'}}]"
      ]
     },
     "execution_count": 6,
     "metadata": {},
     "output_type": "execute_result"
    }
   ],
   "source": [
    "list(cursor)[:10]"
   ]
  },
  {
   "cell_type": "markdown",
   "id": "6790e718-30f9-4c63-b01e-9abca035e71b",
   "metadata": {},
   "source": [
    "# U1.C1"
   ]
  },
  {
   "cell_type": "markdown",
   "id": "a0b0fc79-7eaa-4f32-b594-e577b375c755",
   "metadata": {},
   "source": [
    "During this game progress, followed by the instruction of DANI, players set up their virtual look, investigated their lock-up, and also followed the waypoint to talk to Dr. Toppo. Completing the progress after Dr. Toppo let the players talk to other team members. White color means they didn't complete this progress point; Green means they completed this progress."
   ]
  },
  {
   "cell_type": "code",
   "execution_count": 8,
   "id": "a54ebaf4-94b7-4a6c-b2ae-333f5f41330c",
   "metadata": {},
   "outputs": [],
   "source": [
    "pids = [\n",
    "    \"sean3@mhs\",\n",
    "    \"wenyi3@mhs\",\n",
    "    \"sean1@mhs\",\n",
    "]"
   ]
  },
  {
   "cell_type": "code",
   "execution_count": 7,
   "id": "c52d6e29-60e9-47c9-95e8-206ad9852e35",
   "metadata": {},
   "outputs": [],
   "source": [
    "def color_u1c1_for_pid(coll, pid):\n",
    "    \n",
    "    has_q3129 = coll.count_documents({\n",
    "        \"player_id\": pid,\n",
    "        \"event_type\": \"DialogueEvent\",\n",
    "        \"$and\": [\n",
    "            {\"event_data\": {\"$regex\": r'\"dialogueEventType\"\\s*:\\s*\"DialogueNodeEvent\"'}},\n",
    "            {\"event_data\": {\"$regex\": r'\"conversationId\"\\s*:\\s*\"31\"'}},\n",
    "            {\"event_data\": {\"$regex\": r'\"nodeId\"\\s*:\\s*\"29\"'}}\n",
    "        ]\n",
    "    }) > 0\n",
    "\n",
    "    if not has_q3129:\n",
    "        return \"white\"\n",
    "    else:\n",
    "        return \"green\""
   ]
  },
  {
   "cell_type": "code",
   "execution_count": 9,
   "id": "b131d2ec-1886-4f80-94a0-5a7c8c74e0c0",
   "metadata": {},
   "outputs": [
    {
     "data": {
      "text/plain": [
       "{'sean3@mhs': 'green', 'wenyi3@mhs': 'green', 'sean1@mhs': 'white'}"
      ]
     },
     "execution_count": 9,
     "metadata": {},
     "output_type": "execute_result"
    }
   ],
   "source": [
    "pids_u1c1_to_color = {pid: color_u1c1_for_pid(coll, pid) for pid in pids}\n",
    "pids_u1c1_to_color"
   ]
  },
  {
   "cell_type": "markdown",
   "id": "e2f10923-50e5-4fc6-94cb-eb265d74158f",
   "metadata": {},
   "source": [
    "# U1.C2"
   ]
  },
  {
   "cell_type": "markdown",
   "id": "35067fac-3bc3-40f9-909b-da5dddcff423",
   "metadata": {},
   "source": [
    "During this progress point, players start by following the waypoints to talk to each team member, collecting information about scientific argumentation, getting to know each team member, and end with going back to Dr. Toppo. White represents not completing this progress; Green means completing this progress point. "
   ]
  },
  {
   "cell_type": "code",
   "execution_count": 10,
   "id": "53cae027-16d4-4729-99fc-7b2fa754811c",
   "metadata": {},
   "outputs": [],
   "source": [
    "pids = [\n",
    "    \"sean3@mhs\",\n",
    "    \"wenyi3@mhs\",\n",
    "    \"sean1@mhs\",\n",
    "]"
   ]
  },
  {
   "cell_type": "code",
   "execution_count": 11,
   "id": "80a0bea7-b8c0-4f14-ae3c-4dee9eb7a8bb",
   "metadata": {},
   "outputs": [],
   "source": [
    "def color_u1c2_for_pid(coll, pid):\n",
    "    \n",
    "    has_q3098 = coll.count_documents({\n",
    "        \"player_id\": pid,\n",
    "        \"event_type\": \"DialogueEvent\",\n",
    "        \"$and\": [\n",
    "            {\"event_data\": {\"$regex\": r'\"dialogueEventType\"\\s*:\\s*\"DialogueNodeEvent\"'}},\n",
    "            {\"event_data\": {\"$regex\": r'\"conversationId\"\\s*:\\s*\"30\"'}},\n",
    "            {\"event_data\": {\"$regex\": r'\"nodeId\"\\s*:\\s*\"98\"'}}\n",
    "        ]\n",
    "    }) > 0\n",
    "\n",
    "    if not has_q3098:\n",
    "        return \"white\"\n",
    "    else:\n",
    "        return \"green\""
   ]
  },
  {
   "cell_type": "code",
   "execution_count": 12,
   "id": "af7994c0-28c9-458c-b691-d8ce776cba8b",
   "metadata": {},
   "outputs": [
    {
     "data": {
      "text/plain": [
       "{'sean3@mhs': 'green', 'wenyi3@mhs': 'green', 'sean1@mhs': 'white'}"
      ]
     },
     "execution_count": 12,
     "metadata": {},
     "output_type": "execute_result"
    }
   ],
   "source": [
    "pids_u1c2_to_color = {pid: color_u1c1_for_pid(coll, pid) for pid in pids}\n",
    "pids_u1c2_to_color"
   ]
  },
  {
   "cell_type": "markdown",
   "id": "46ce31b0-057d-4a7c-9523-62d8159c7114",
   "metadata": {},
   "source": [
    "# U1.C3"
   ]
  },
  {
   "cell_type": "markdown",
   "id": "faeed187-1a76-483a-95ae-4305900eaf9a",
   "metadata": {},
   "source": [
    "During this progress point, players talked with Dr. Toppo and watched her argumentation tutorials and completed two sections of the argumentation. White means not completing this progress; Green means submitting the correct argument at the first attempt; Yellow means submitting the correct argument using more than one attempt."
   ]
  },
  {
   "cell_type": "code",
   "execution_count": 253,
   "id": "408c65d5-62a7-4bca-b370-98b7aa117bbd",
   "metadata": {},
   "outputs": [],
   "source": [
    "pids = [\n",
    "    \"sean3@mhs\",\n",
    "    \"wenyi3@mhs\",\n",
    "    \"sean1@mhs\",\n",
    "]"
   ]
  },
  {
   "cell_type": "code",
   "execution_count": 254,
   "id": "b46aebb0-b2c3-4cea-9732-38b3310d3eaa",
   "metadata": {},
   "outputs": [],
   "source": [
    "def color_u1c3_for_pid(coll, pid):\n",
    "    \n",
    "    has_q34 = coll.count_documents({\n",
    "        \"player_id\": pid,\n",
    "        \"event_type\": \"questEvent\",\n",
    "        \"$and\": [\n",
    "            {\"event_data\": {\"$regex\": r'\"questEventType\"\\s*:\\s*\"questActiveEvent\"'}},\n",
    "            {\"event_data\": {\"$regex\": r'\"questID\"\\s*:\\s*\"34\"'}}\n",
    "        ]\n",
    "    }) > 0\n",
    "\n",
    "    if not has_q34:\n",
    "        return \"white\"\n",
    "\n",
    "    has_node_33_or_25 = coll.count_documents({\n",
    "        \"player_id\": pid,\n",
    "        \"event_type\": \"DialogueEvent\",\n",
    "        \"$and\": [\n",
    "            {\"event_data\": {\"$regex\": r'\"dialogueEventType\"\\s*:\\s*\"DialogueNodeEvent\"'}},\n",
    "            {\"event_data\": {\"$regex\": r'\"conversationId\"\\s*:\\s*\"70\"'}},\n",
    "            {\"event_data\": {\"$regex\": r'\"nodeId\"\\s*:\\s*\"(33|25)\"'}}\n",
    "        ]\n",
    "    }) > 0\n",
    "\n",
    "    return \"yellow\" if has_node_33_or_25 else \"green\""
   ]
  },
  {
   "cell_type": "code",
   "execution_count": 255,
   "id": "cf50bf07-6c34-473f-ab0a-712db9376a3c",
   "metadata": {},
   "outputs": [
    {
     "data": {
      "text/plain": [
       "{'sean3@mhs': 'green', 'wenyi3@mhs': 'yellow', 'sean1@mhs': 'white'}"
      ]
     },
     "execution_count": 255,
     "metadata": {},
     "output_type": "execute_result"
    }
   ],
   "source": [
    "pids_u1c3_to_color = {pid: color_u1c3_for_pid(coll, pid) for pid in pids}\n",
    "pids_u1c3_to_color"
   ]
  },
  {
   "cell_type": "markdown",
   "id": "2dda98df-2f5a-4d69-bbfa-d58f8c4dec2a",
   "metadata": {},
   "source": [
    "# U1.C4"
   ]
  },
  {
   "cell_type": "markdown",
   "id": "a25dc83a-2b2c-4939-a22b-4d5d4498dc54",
   "metadata": {},
   "source": [
    "During this progress point, players completed the conversation with Dr. Toppo, encountered a crash of the spaceship, and then escaped the ship along with other team members using the escape pod. White means not completing the progress, while green means completing the progress."
   ]
  },
  {
   "cell_type": "code",
   "execution_count": 13,
   "id": "190a55d6-4bb1-4233-a7ce-ccf5ce6fd2c7",
   "metadata": {},
   "outputs": [],
   "source": [
    "pids = [\n",
    "    \"sean3@mhs\",\n",
    "    \"wenyi3@mhs\",\n",
    "    \"sean1@mhs\",\n",
    "]"
   ]
  },
  {
   "cell_type": "code",
   "execution_count": 14,
   "id": "c17b08fd-07f0-4e61-9df7-20e2882736ee",
   "metadata": {},
   "outputs": [],
   "source": [
    "def color_u1c4_for_pid(coll, pid):\n",
    "    \n",
    "    has_q34 = coll.count_documents({\n",
    "        \"player_id\": pid,\n",
    "        \"event_type\": \"questEvent\",\n",
    "        \"$and\": [\n",
    "            {\"event_data\": {\"$regex\": r'\"questEventType\"\\s*:\\s*\"questFinishEvent\"'}},\n",
    "            {\"event_data\": {\"$regex\": r'\"questID\"\\s*:\\s*\"34\"'}}\n",
    "        ]\n",
    "    }) > 0\n",
    "\n",
    "    if not has_q34:\n",
    "        return \"white\"\n",
    "    else:\n",
    "        return \"green\""
   ]
  },
  {
   "cell_type": "code",
   "execution_count": 15,
   "id": "b2fe5401-4e5c-44f5-a887-119e4f54ad74",
   "metadata": {},
   "outputs": [
    {
     "data": {
      "text/plain": [
       "{'sean3@mhs': 'green', 'wenyi3@mhs': 'green', 'sean1@mhs': 'white'}"
      ]
     },
     "execution_count": 15,
     "metadata": {},
     "output_type": "execute_result"
    }
   ],
   "source": [
    "pids_u1c4_to_color = {pid: color_u1c4_for_pid(coll, pid) for pid in pids}\n",
    "pids_u1c4_to_color"
   ]
  },
  {
   "cell_type": "markdown",
   "id": "cd7550f7-9ba0-4744-863b-8357647cfa54",
   "metadata": {},
   "source": [
    "# U2.C1"
   ]
  },
  {
   "cell_type": "markdown",
   "id": "f9b6eeb7-9459-4e56-92a8-de02eeaea3a6",
   "metadata": {},
   "source": [
    "During this progress point, players need to match topographic glyphs based on the 2D shape of the topographic geography from the top view. The color is white if the player doesn't complete the progress; The color is yellow if they triggered the dialogue feedbacks, representing they have more than 4 attempts to make it right or seeking help from DANI. The color is green if they match the glyphs within 4 attempts without help from DANI. After this task, players will have a better idea of the knowledge of topographic knowledge. At the end, players will find a way to exit the temple.     "
   ]
  },
  {
   "cell_type": "code",
   "execution_count": 256,
   "id": "b0d91c13-97b4-4013-a61b-494ec176c798",
   "metadata": {},
   "outputs": [],
   "source": [
    "pids = [\n",
    "    \"sean3@mhs\",\n",
    "    \"wenyi3@mhs\",\n",
    "    \"sean1@mhs\"\n",
    "]"
   ]
  },
  {
   "cell_type": "code",
   "execution_count": 257,
   "id": "fb9e7f47-03a4-4b57-b12f-93fd5f2bc136",
   "metadata": {},
   "outputs": [],
   "source": [
    "def color_u2c1_for_pid(coll, pid):\n",
    "    \n",
    "    has_finish21 = coll.count_documents({\n",
    "    \"player_id\": pid,\n",
    "    \"event_type\": \"questEvent\",\n",
    "    \"$and\": [\n",
    "        {\"event_data\": {\"$regex\": r'\"questEventType\"\\s*:\\s*\"questFinishEvent\"'}},\n",
    "        {\"event_data\": {\"$regex\": r'\"questID\"\\s*:\\s*\"21\"'}}\n",
    "    ]\n",
    "    }) > 0\n",
    "\n",
    "    if not has_finish21:\n",
    "        return \"white\"\n",
    "\n",
    "    else:\n",
    "    \n",
    "        has_bad_nodes = coll.count_documents({\n",
    "            \"player_id\": pid,\n",
    "            \"event_type\": \"DialogueEvent\",\n",
    "            \"$and\": [\n",
    "            {\"event_data\": {\"$regex\": r'\"dialogueEventType\"\\s*:\\s*\"DialogueNodeEvent\"'}},\n",
    "            {\"event_data\": {\"$regex\": r'\"conversationId\"\\s*:\\s*\"68\"'}},\n",
    "            {\"event_data\": {\"$regex\": r'\"nodeId\"\\s*:\\s*\"(23|28|27|31)\"'}}\n",
    "            ]\n",
    "        }) > 0\n",
    "\n",
    "        has_node_29 = coll.count_documents({\n",
    "            \"player_id\": pid,\n",
    "            \"event_type\": \"DialogueEvent\",\n",
    "            \"$and\": [\n",
    "            {\"event_data\": {\"$regex\": r'\"dialogueEventType\"\\s*:\\s*\"DialogueNodeEvent\"'}},\n",
    "            {\"event_data\": {\"$regex\": r'\"conversationId\"\\s*:\\s*\"68\"'}},\n",
    "            {\"event_data\": {\"$regex\": r'\"nodeId\"\\s*:\\s*\"29\"'}}\n",
    "            ]\n",
    "        }) > 0\n",
    "\n",
    "        if has_node_29 and not has_bad_nodes:\n",
    "            return \"green\"\n",
    "        else:\n",
    "            return \"yellow\""
   ]
  },
  {
   "cell_type": "code",
   "execution_count": 258,
   "id": "0e773f16-8053-4699-96c4-819eb5de1147",
   "metadata": {},
   "outputs": [
    {
     "data": {
      "text/plain": [
       "{'sean3@mhs': 'green', 'wenyi3@mhs': 'green', 'sean1@mhs': 'white'}"
      ]
     },
     "execution_count": 258,
     "metadata": {},
     "output_type": "execute_result"
    }
   ],
   "source": [
    "pids_u2c1_to_color = {pid: color_u2c1_for_pid(coll, pid) for pid in pids}\n",
    "pids_u2c1_to_color"
   ]
  },
  {
   "cell_type": "markdown",
   "id": "2f13c792-ee45-46cf-8c24-2166f9b642a8",
   "metadata": {},
   "source": [
    "# U2.C2"
   ]
  },
  {
   "cell_type": "markdown",
   "id": "1e8e45ed-c4da-4fb5-919e-6f97742d2665",
   "metadata": {},
   "source": [
    "During this progress point, players will meet Anderson and help her fix the hoverboard. After successfully fixing it, players can navigate with the hoverboard. Then, players need to place a waypoint on the topographic map based on the location description of Dr. Toppo. Following the placed waypoint, players need to find where Dr. Toppo is. White if the player didn't complete the progress, yellow if the timeduration of finding Dr. Toppo is larger than 5 minutes, otherwise it's green."
   ]
  },
  {
   "cell_type": "code",
   "execution_count": 259,
   "id": "b15ea895-35b9-486c-ba43-3813e9c79b75",
   "metadata": {},
   "outputs": [],
   "source": [
    "pids = [\n",
    "    \"sean3@mhs\",\n",
    "    \"wenyi3@mhs\",\n",
    "    \"sean1@mhs\"\n",
    "]"
   ]
  },
  {
   "cell_type": "code",
   "execution_count": 260,
   "id": "9fd821b4-a107-4db7-ba77-71aabde79fd2",
   "metadata": {},
   "outputs": [],
   "source": [
    "FIVE_MIN = timedelta(minutes=5)"
   ]
  },
  {
   "cell_type": "code",
   "execution_count": 261,
   "id": "b4a43ce6-0057-4822-af80-7d881668950e",
   "metadata": {},
   "outputs": [],
   "source": [
    "def color_u2c2_for_pid(coll, pid):\n",
    "    \n",
    "    has_complete = coll.count_documents({\n",
    "    \"player_id\": pid,\n",
    "    \"event_type\": \"DialogueEvent\",\n",
    "    \"$and\": [\n",
    "        {\"event_data\": {\"$regex\": r'\"dialogueEventType\"\\s*:\\s*\"DialogueNodeEvent\"'}},\n",
    "                {\"event_data\": {\"$regex\": r'\"conversationId\"\\s*:\\s*\"20\"'}},\n",
    "                {\"event_data\": {\"$regex\": r'\"nodeId\"\\s*:\\s*\"26\"'}},\n",
    "    ]\n",
    "    }) > 0\n",
    "\n",
    "    if not has_complete:\n",
    "        return \"white\"\n",
    "\n",
    "    else:\n",
    "    \n",
    "        e_201 = coll.find_one(\n",
    "        {\n",
    "            \"player_id\": pid,\n",
    "            \"event_type\": \"DialogueEvent\",\n",
    "            \"$and\": [\n",
    "                {\"event_data\": {\"$regex\": r'\"dialogueEventType\"\\s*:\\s*\"DialogueNodeEvent\"'}},\n",
    "                {\"event_data\": {\"$regex\": r'\"conversationId\"\\s*:\\s*\"20\"'}},\n",
    "                {\"event_data\": {\"$regex\": r'\"nodeId\"\\s*:\\s*\"1\"'}},\n",
    "            ],\n",
    "        },\n",
    "        sort=[(\"timestamp\", 1)],\n",
    "        projection={\"_id\": 0, \"timestamp\": 1},\n",
    "        )\n",
    "\n",
    "        e_1946 = coll.find_one(\n",
    "        {\n",
    "            \"player_id\": pid,\n",
    "            \"event_type\": \"DialogueEvent\",\n",
    "            \"$and\": [\n",
    "                {\"event_data\": {\"$regex\": r'\"dialogueEventType\"\\s*:\\s*\"DialogueNodeEvent\"'}},\n",
    "                {\"event_data\": {\"$regex\": r'\"conversationId\"\\s*:\\s*\"19\"'}},\n",
    "                {\"event_data\": {\"$regex\": r'\"nodeId\"\\s*:\\s*\"46\"'}},\n",
    "            ],\n",
    "        },\n",
    "        sort=[(\"timestamp\", 1)],\n",
    "        projection={\"_id\": 0, \"timestamp\": 1},\n",
    "        )\n",
    "\n",
    "        if not e_201 or not e_1946:\n",
    "            return \"yellow\"\n",
    "\n",
    "        delta = abs(e_201[\"timestamp\"] - e_1946[\"timestamp\"])\n",
    "        return \"yellow\" if delta > FIVE_MIN else \"green\""
   ]
  },
  {
   "cell_type": "code",
   "execution_count": 262,
   "id": "74908836-8969-4cc1-b99f-f8475f317340",
   "metadata": {},
   "outputs": [
    {
     "data": {
      "text/plain": [
       "{'sean3@mhs': 'yellow', 'wenyi3@mhs': 'green', 'sean1@mhs': 'white'}"
      ]
     },
     "execution_count": 262,
     "metadata": {},
     "output_type": "execute_result"
    }
   ],
   "source": [
    "pids_u2c2_to_color = {pid: color_u2c2_for_pid(coll, pid) for pid in pids}\n",
    "pids_u2c2_to_color"
   ]
  },
  {
   "cell_type": "markdown",
   "id": "4fa1e42a-2cb7-403a-aece-ccd8a6865e11",
   "metadata": {},
   "source": [
    "# U2.C3"
   ]
  },
  {
   "cell_type": "markdown",
   "id": "cbedf92c-1095-461b-85e1-4ace54e91286",
   "metadata": {},
   "source": [
    "Similar to the last progress point, players need to place the waypoints on the topographic map and find the other two team members based on the descriptions. If the player finds both team members using timedurations less than 5 minutes, then the color is green; otherwise, it's yellow.  "
   ]
  },
  {
   "cell_type": "code",
   "execution_count": 263,
   "id": "54a38400-62a9-4656-9aa5-f7590363d8f6",
   "metadata": {},
   "outputs": [],
   "source": [
    "pids = [\n",
    "    \"sean3@mhs\",\n",
    "    \"wenyi3@mhs\",\n",
    "    \"sean1@mhs\"\n",
    "]"
   ]
  },
  {
   "cell_type": "code",
   "execution_count": 264,
   "id": "d9e5548e-78ce-46cd-9cf6-aef072954f42",
   "metadata": {},
   "outputs": [],
   "source": [
    "FIVE_MIN = timedelta(minutes=5)"
   ]
  },
  {
   "cell_type": "code",
   "execution_count": 265,
   "id": "a4b83c7c-a82a-46c6-9a87-222846459ab5",
   "metadata": {},
   "outputs": [],
   "source": [
    "def color_u2c3_for_pid(coll, pid):\n",
    "    \n",
    "    has_complete = coll.count_documents({\n",
    "    \"player_id\": pid,\n",
    "    \"event_type\": \"DialogueEvent\",\n",
    "    \"$and\": [\n",
    "        {\"event_data\": {\"$regex\": r'\"dialogueEventType\"\\s*:\\s*\"DialogueNodeEvent\"'}},\n",
    "                {\"event_data\": {\"$regex\": r'\"conversationId\"\\s*:\\s*\"22\"'}},\n",
    "                {\"event_data\": {\"$regex\": r'\"nodeId\"\\s*:\\s*\"18\"'}},\n",
    "    ]\n",
    "    }) > 0\n",
    "\n",
    "    if not has_complete:\n",
    "        return \"white\"\n",
    "\n",
    "    else:\n",
    "    \n",
    "        s_01 = coll.find_one(\n",
    "        {\n",
    "            \"player_id\": pid,\n",
    "            \"event_type\": \"DialogueEvent\",\n",
    "            \"$and\": [\n",
    "                {\"event_data\": {\"$regex\": r'\"dialogueEventType\"\\s*:\\s*\"DialogueNodeEvent\"'}},\n",
    "                {\"event_data\": {\"$regex\": r'\"conversationId\"\\s*:\\s*\"20\"'}},\n",
    "                {\"event_data\": {\"$regex\": r'\"nodeId\"\\s*:\\s*\"33\"'}},\n",
    "            ],\n",
    "        },\n",
    "        sort=[(\"timestamp\", 1)],\n",
    "        projection={\"_id\": 0, \"timestamp\": 1},\n",
    "        )\n",
    "\n",
    "        e_01 = coll.find_one(\n",
    "        {\n",
    "            \"player_id\": pid,\n",
    "            \"event_type\": \"DialogueEvent\",\n",
    "            \"$and\": [\n",
    "                {\"event_data\": {\"$regex\": r'\"dialogueEventType\"\\s*:\\s*\"DialogueNodeEvent\"'}},\n",
    "                {\"event_data\": {\"$regex\": r'\"conversationId\"\\s*:\\s*\"21\"'}},\n",
    "                {\"event_data\": {\"$regex\": r'\"nodeId\"\\s*:\\s*\"1\"'}},\n",
    "            ],\n",
    "        },\n",
    "        sort=[(\"timestamp\", 1)],\n",
    "        projection={\"_id\": 0, \"timestamp\": 1},\n",
    "        )\n",
    "\n",
    "        s_02 = coll.find_one(\n",
    "        {\n",
    "            \"player_id\": pid,\n",
    "            \"event_type\": \"DialogueEvent\",\n",
    "            \"$and\": [\n",
    "                {\"event_data\": {\"$regex\": r'\"dialogueEventType\"\\s*:\\s*\"DialogueNodeEvent\"'}},\n",
    "                {\"event_data\": {\"$regex\": r'\"conversationId\"\\s*:\\s*\"21\"'}},\n",
    "                {\"event_data\": {\"$regex\": r'\"nodeId\"\\s*:\\s*\"15\"'}},\n",
    "            ],\n",
    "        },\n",
    "        sort=[(\"timestamp\", 1)],\n",
    "        projection={\"_id\": 0, \"timestamp\": 1},\n",
    "        )\n",
    "\n",
    "        e_02 = coll.find_one(\n",
    "        {\n",
    "            \"player_id\": pid,\n",
    "            \"event_type\": \"DialogueEvent\",\n",
    "            \"$and\": [\n",
    "                {\"event_data\": {\"$regex\": r'\"dialogueEventType\"\\s*:\\s*\"DialogueNodeEvent\"'}},\n",
    "                {\"event_data\": {\"$regex\": r'\"conversationId\"\\s*:\\s*\"22\"'}},\n",
    "                {\"event_data\": {\"$regex\": r'\"nodeId\"\\s*:\\s*\"1\"'}},\n",
    "            ],\n",
    "        },\n",
    "        sort=[(\"timestamp\", 1)],\n",
    "        projection={\"_id\": 0, \"timestamp\": 1},\n",
    "        )\n",
    "\n",
    "        if not e_01 or not e_02:\n",
    "            return \"yellow\"\n",
    "\n",
    "        delta_1 = abs(e_01[\"timestamp\"] - s_01[\"timestamp\"])\n",
    "\n",
    "        delta_2 = abs(e_02[\"timestamp\"] - s_02[\"timestamp\"])\n",
    "\n",
    "        if delta_1 <= FIVE_MIN and delta_2 <= FIVE_MIN:\n",
    "            return \"green\"\n",
    "        else:\n",
    "            return \"yellow\""
   ]
  },
  {
   "cell_type": "code",
   "execution_count": 266,
   "id": "314f2c95-255b-4df3-b418-18b76ca30a2a",
   "metadata": {},
   "outputs": [
    {
     "data": {
      "text/plain": [
       "{'sean3@mhs': 'yellow', 'wenyi3@mhs': 'green', 'sean1@mhs': 'white'}"
      ]
     },
     "execution_count": 266,
     "metadata": {},
     "output_type": "execute_result"
    }
   ],
   "source": [
    "pids_u2c3_to_color = {pid: color_u2c3_for_pid(coll, pid) for pid in pids}\n",
    "pids_u2c3_to_color"
   ]
  },
  {
   "cell_type": "markdown",
   "id": "9f061338-d6e5-4d93-bed3-d4d3cff4eb6c",
   "metadata": {},
   "source": [
    "# U2.C4"
   ]
  },
  {
   "cell_type": "markdown",
   "id": "73cd81a9-8cfe-4948-b075-f88767f0056b",
   "metadata": {},
   "source": [
    "In this progress point, players need to place the glyphs on the wall based on the humidity level. The color will represent how many attempts they used to arrange the glyphs correctly. If players arrange the glyphs correctly within five attempts, and place glyphs by themselves, the color will be green; otherwise, it will be yellow."
   ]
  },
  {
   "cell_type": "code",
   "execution_count": 231,
   "id": "a32319d7-1bad-4ac4-aa2c-0f9442bf2660",
   "metadata": {},
   "outputs": [],
   "source": [
    "pids = [\n",
    "    \"sean3@mhs\",\n",
    "    \"wenyi3@mhs\",\n",
    "    \"sean1@mhs\"\n",
    "]"
   ]
  },
  {
   "cell_type": "code",
   "execution_count": 232,
   "id": "53cff348-6370-460e-ab30-631be5e620a6",
   "metadata": {},
   "outputs": [],
   "source": [
    "def color_u2c4_for_pid(coll, pid):\n",
    "    \n",
    "    has_finish_24 = coll.count_documents({\n",
    "    \"player_id\": pid,\n",
    "    \"event_type\": \"DialogueEvent\",\n",
    "    \"$and\": [\n",
    "        {\"event_data\": {\"$regex\": r'\"dialogueEventType\"\\s*:\\s*\"DialogueNodeEvent\"'}},\n",
    "                {\"event_data\": {\"$regex\": r'\"conversationId\"\\s*:\\s*\"23\"'}},\n",
    "                {\"event_data\": {\"$regex\": r'\"nodeId\"\\s*:\\s*\"17\"'}},\n",
    "    ]\n",
    "    }) > 0\n",
    "\n",
    "    if not has_finish_24:\n",
    "        return \"white\"\n",
    "\n",
    "    else:\n",
    "    \n",
    "        has_bad_nodes = coll.count_documents({\n",
    "            \"player_id\": pid,\n",
    "            \"event_type\": \"DialogueEvent\",\n",
    "            \"$and\": [\n",
    "            {\"event_data\": {\"$regex\": r'\"dialogueEventType\"\\s*:\\s*\"DialogueNodeEvent\"'}},\n",
    "            {\"event_data\": {\"$regex\": r'\"conversationId\"\\s*:\\s*\"74\"'}},\n",
    "            {\"event_data\": {\"$regex\": r'\"nodeId\"\\s*:\\s*\"(16|17|20|22)\"'}}\n",
    "            ]\n",
    "        }) > 0\n",
    "\n",
    "        has_node_21 = coll.count_documents({\n",
    "            \"player_id\": pid,\n",
    "            \"event_type\": \"DialogueEvent\",\n",
    "            \"$and\": [\n",
    "            {\"event_data\": {\"$regex\": r'\"dialogueEventType\"\\s*:\\s*\"DialogueNodeEvent\"'}},\n",
    "            {\"event_data\": {\"$regex\": r'\"conversationId\"\\s*:\\s*\"74\"'}},\n",
    "            {\"event_data\": {\"$regex\": r'\"nodeId\"\\s*:\\s*\"21\"'}}\n",
    "            ]\n",
    "        }) > 0\n",
    "\n",
    "        if has_node_21 and not has_bad_nodes:\n",
    "            return \"green\"\n",
    "        else:\n",
    "            return \"yellow\""
   ]
  },
  {
   "cell_type": "code",
   "execution_count": 233,
   "id": "d4bbe24f-89df-41be-965b-c9d1b66edfa8",
   "metadata": {},
   "outputs": [
    {
     "data": {
      "text/plain": [
       "{'sean3@mhs': 'green', 'wenyi3@mhs': 'green', 'sean1@mhs': 'white'}"
      ]
     },
     "execution_count": 233,
     "metadata": {},
     "output_type": "execute_result"
    }
   ],
   "source": [
    "pids_u2c4_to_color = {pid: color_u2c4_for_pid(coll, pid) for pid in pids}\n",
    "pids_u2c4_to_color"
   ]
  },
  {
   "cell_type": "markdown",
   "id": "71f72e13-7a26-4601-8792-7d0c7683ba4c",
   "metadata": {},
   "source": [
    "# U2.C5"
   ]
  },
  {
   "cell_type": "markdown",
   "id": "ae4427bf-339f-4efb-a10e-81aaca501266",
   "metadata": {},
   "source": [
    "In this progress point, players need to figure out the correct argumentation component based on the text descriptions. Once the player chooses the correct one, positive feedback will be given; otherwise, a negative one will trigger. By calculating the score of summing positive and negative points together, we can know the color of the corresponding block. Yellow if the score is less than four; Green if the score is equal to or larger than four; White if the player didn't complete the progress point."
   ]
  },
  {
   "cell_type": "code",
   "execution_count": 234,
   "id": "6d9ddcbd-48e4-4db9-965f-dcf1e10fd1e9",
   "metadata": {},
   "outputs": [],
   "source": [
    "pids = [\n",
    "    \"sean3@mhs\",\n",
    "    \"wenyi3@mhs\",\n",
    "    \"sean1@mhs\"\n",
    "]"
   ]
  },
  {
   "cell_type": "code",
   "execution_count": 235,
   "id": "b7bdd3e4-8e34-42a9-81fd-f6ee9555d2be",
   "metadata": {},
   "outputs": [],
   "source": [
    "POS_NODES = [140,142,143,146,147,148,165,166,167,168,169,170,172,173,174,175,177,178,179,180,181,182,183,184,185,186]\n",
    "NEG_NODES = [137,144,145,187,188,189,191,192,193,194,195,196,197,198,199,200,201,202,203,204,205,206,207,208,209,210,211]\n",
    "\n",
    "pos_alt = \"|\".join(str(n) for n in POS_NODES)\n",
    "neg_alt = \"|\".join(str(n) for n in NEG_NODES)"
   ]
  },
  {
   "cell_type": "code",
   "execution_count": 236,
   "id": "30eaf1dc-d814-4f39-9315-efcbe544ecf8",
   "metadata": {},
   "outputs": [],
   "source": [
    "def color_u2c5_for_pid(coll, pid):\n",
    "    \n",
    "    has_23_42 = coll.count_documents({\n",
    "        \"player_id\": pid,\n",
    "        \"event_type\": \"DialogueEvent\",\n",
    "        \"$and\": [\n",
    "            {\"event_data\": {\"$regex\": r'\"dialogueEventType\"\\s*:\\s*\"DialogueNodeEvent\"'}},\n",
    "            {\"event_data\": {\"$regex\": r'\"conversationId\"\\s*:\\s*\"23\"'}},\n",
    "            {\"event_data\": {\"$regex\": r'\"nodeId\"\\s*:\\s*\"42\"'}}\n",
    "        ]\n",
    "    }) > 0\n",
    "\n",
    "    if not has_23_42:\n",
    "        return \"white\"\n",
    "\n",
    "    else:\n",
    "        pos_count = coll.count_documents({\n",
    "        \"player_id\": pid,\n",
    "        \"event_type\": \"DialogueEvent\",\n",
    "        \"$and\": [\n",
    "            {\"event_data\": {\"$regex\": r'\"dialogueEventType\"\\s*:\\s*\"DialogueNodeEvent\"'}},\n",
    "            {\"event_data\": {\"$regex\": r'\"conversationId\"\\s*:\\s*\"26\"'}},\n",
    "            {\"event_data\": {\"$regex\": rf'\"nodeId\"\\s*:\\s*\"(?:{pos_alt})\"'}}\n",
    "        ]\n",
    "        })\n",
    "\n",
    "        neg_count = coll.count_documents({\n",
    "        \"player_id\": pid,\n",
    "        \"event_type\": \"DialogueEvent\",\n",
    "        \"$and\": [\n",
    "            {\"event_data\": {\"$regex\": r'\"dialogueEventType\"\\s*:\\s*\"DialogueNodeEvent\"'}},\n",
    "            {\"event_data\": {\"$regex\": r'\"conversationId\"\\s*:\\s*\"26\"'}},\n",
    "            {\"event_data\": {\"$regex\": rf'\"nodeId\"\\s*:\\s*\"(?:{neg_alt})\"'}}\n",
    "        ]\n",
    "        })\n",
    "\n",
    "        score = pos_count - (neg_count / 3.0)\n",
    "\n",
    "        if score < 4:\n",
    "            return \"yellow\"\n",
    "        else:\n",
    "            return \"green\""
   ]
  },
  {
   "cell_type": "code",
   "execution_count": 237,
   "id": "f81af878-7494-405a-bfde-24c449f87442",
   "metadata": {},
   "outputs": [
    {
     "data": {
      "text/plain": [
       "{'sean3@mhs': 'green', 'wenyi3@mhs': 'green', 'sean1@mhs': 'white'}"
      ]
     },
     "execution_count": 237,
     "metadata": {},
     "output_type": "execute_result"
    }
   ],
   "source": [
    "pids_u2c5_to_color = {pid: color_u2c5_for_pid(coll, pid) for pid in pids}\n",
    "pids_u2c5_to_color"
   ]
  },
  {
   "cell_type": "markdown",
   "id": "1ab84723-76ee-4afd-b36e-9d83771f2749",
   "metadata": {},
   "source": [
    "# U2.C6"
   ]
  },
  {
   "cell_type": "markdown",
   "id": "3380f785-a9f6-4f58-9081-bdbe0c693d6e",
   "metadata": {},
   "source": [
    "In this progress point, Dr. Toppo will ask players what is the key factors that determine the watershed size, if the player chose the \"flow rate\", then the color is green, other choices will lead to yellow. If the players didn't complete this progress then the color will be white."
   ]
  },
  {
   "cell_type": "code",
   "execution_count": 238,
   "id": "c873c324-6955-4cc1-b360-612bc6aa0c99",
   "metadata": {},
   "outputs": [],
   "source": [
    "pids = [\n",
    "    \"sean3@mhs\",\n",
    "    \"wenyi3@mhs\",\n",
    "    \"sean1@mhs\"\n",
    "]"
   ]
  },
  {
   "cell_type": "code",
   "execution_count": 239,
   "id": "5866ea08-73cc-4fbc-a568-5290ba5b8c2f",
   "metadata": {},
   "outputs": [],
   "source": [
    "def color_u2c6_for_pid(coll, pid):\n",
    "    \n",
    "    has_finish18284 = coll.count_documents({\n",
    "    \"player_id\": pid,\n",
    "    \"event_type\": \"DialogueEvent\",\n",
    "    \"$and\": [\n",
    "        {\"event_data\": {\"$regex\": r'\"dialogueEventType\"\\s*:\\s*\"DialogueNodeEvent\"'}},\n",
    "                {\"event_data\": {\"$regex\": r'\"conversationId\"\\s*:\\s*\"18\"'}},\n",
    "                {\"event_data\": {\"$regex\": r'\"nodeId\"\\s*:\\s*\"284\"'}},\n",
    "    ]\n",
    "    }) > 0\n",
    "\n",
    "    if not has_finish18284:\n",
    "        return \"white\"\n",
    "\n",
    "    else:\n",
    "    \n",
    "        has_bad_nodes = coll.count_documents({\n",
    "            \"player_id\": pid,\n",
    "            \"event_type\": \"DialogueEvent\",\n",
    "            \"$and\": [\n",
    "            {\"event_data\": {\"$regex\": r'\"dialogueEventType\"\\s*:\\s*\"DialogueNodeEvent\"'}},\n",
    "            {\"event_data\": {\"$regex\": r'\"conversationId\"\\s*:\\s*\"20\"'}},\n",
    "            {\"event_data\": {\"$regex\": r'\"nodeId\"\\s*:\\s*\"(44|45)\"'}}\n",
    "            ]\n",
    "        }) > 0\n",
    "\n",
    "        has_good_node = coll.count_documents({\n",
    "            \"player_id\": pid,\n",
    "            \"event_type\": \"DialogueEvent\",\n",
    "            \"$and\": [\n",
    "            {\"event_data\": {\"$regex\": r'\"dialogueEventType\"\\s*:\\s*\"DialogueNodeEvent\"'}},\n",
    "            {\"event_data\": {\"$regex\": r'\"conversationId\"\\s*:\\s*\"20\"'}},\n",
    "            {\"event_data\": {\"$regex\": r'\"nodeId\"\\s*:\\s*\"43\"'}}\n",
    "            ]\n",
    "        }) > 0\n",
    "\n",
    "        if has_bad_nodes:\n",
    "            return \"yellow\"\n",
    "        else:\n",
    "            return \"green\""
   ]
  },
  {
   "cell_type": "code",
   "execution_count": 240,
   "id": "50b91e40-5b41-4b79-8840-d3268fa30688",
   "metadata": {},
   "outputs": [
    {
     "data": {
      "text/plain": [
       "{'sean3@mhs': 'green', 'wenyi3@mhs': 'green', 'sean1@mhs': 'white'}"
      ]
     },
     "execution_count": 240,
     "metadata": {},
     "output_type": "execute_result"
    }
   ],
   "source": [
    "pids_u2c6_to_color = {pid: color_u2c6_for_pid(coll, pid) for pid in pids}\n",
    "pids_u2c6_to_color"
   ]
  },
  {
   "cell_type": "markdown",
   "id": "53aeb112-dfbf-4129-a095-6261824af1b8",
   "metadata": {},
   "source": [
    "# U2.C7"
   ]
  },
  {
   "cell_type": "markdown",
   "id": "74759a52-5f0a-433b-a70b-b85708d8189e",
   "metadata": {},
   "source": [
    "During this progress point, players will complete the scientific argumentation of this unit. For relevant feedback dialogue of this quest, only one feedback is the positive one (if the argumentation is correct), others are negative ones. If the player got a positve feedback and the negative feedback count is less or equal to 3 then the color is green, otherwise the color is yellow. If the players didn't coplete the progress, then the color is white."
   ]
  },
  {
   "cell_type": "code",
   "execution_count": 241,
   "id": "bdc6233b-2e47-423d-bd1a-49c1a4e6ed98",
   "metadata": {},
   "outputs": [],
   "source": [
    "pids = [\n",
    "    \"sean3@mhs\",\n",
    "    \"wenyi3@mhs\",\n",
    "    \"sean1@mhs\"\n",
    "]"
   ]
  },
  {
   "cell_type": "code",
   "execution_count": 242,
   "id": "9de16803-d932-4abd-bd03-1aee241efc28",
   "metadata": {},
   "outputs": [],
   "source": [
    "NEG_NODES = [11,12,13,14,15,16,17,18,19,20,21,22,23,24,25,26,27,28,29,30]\n",
    "neg_alt = \"|\".join(str(n) for n in NEG_NODES)"
   ]
  },
  {
   "cell_type": "code",
   "execution_count": 243,
   "id": "c95e7ecc-cf93-478a-9e15-dd04b1620739",
   "metadata": {},
   "outputs": [],
   "source": [
    "def color_u2c7_for_pid(coll, pid):\n",
    "    \n",
    "    has_20_75 = coll.count_documents({\n",
    "        \"player_id\": pid,\n",
    "        \"event_type\": \"DialogueEvent\",\n",
    "        \"$and\": [\n",
    "            {\"event_data\": {\"$regex\": r'\"dialogueEventType\"\\s*:\\s*\"DialogueNodeEvent\"'}},\n",
    "            {\"event_data\": {\"$regex\": r'\"conversationId\"\\s*:\\s*\"20\"'}},\n",
    "            {\"event_data\": {\"$regex\": r'\"nodeId\"\\s*:\\s*\"(74|75)\"'}}\n",
    "        ]\n",
    "    }) > 0\n",
    "\n",
    "    if not has_20_75:\n",
    "        return \"white\"\n",
    "\n",
    "    else:\n",
    "        has_complete = coll.count_documents({\n",
    "        \"player_id\": pid,\n",
    "        \"event_type\": \"DialogueEvent\",\n",
    "        \"$and\": [\n",
    "            {\"event_data\": {\"$regex\": r'\"dialogueEventType\"\\s*:\\s*\"DialogueNodeEvent\"'}},\n",
    "            {\"event_data\": {\"$regex\": r'\"conversationId\"\\s*:\\s*\"27\"'}},\n",
    "            {\"event_data\": {\"$regex\": r'\"nodeId\"\\s*:\\s*\"7\"'}}\n",
    "        ]\n",
    "        })\n",
    "\n",
    "        neg_count = coll.count_documents({\n",
    "        \"player_id\": pid,\n",
    "        \"event_type\": \"DialogueEvent\",\n",
    "        \"$and\": [\n",
    "            {\"event_data\": {\"$regex\": r'\"dialogueEventType\"\\s*:\\s*\"DialogueNodeEvent\"'}},\n",
    "            {\"event_data\": {\"$regex\": r'\"conversationId\"\\s*:\\s*\"27\"'}},\n",
    "            {\"event_data\": {\"$regex\": rf'\"nodeId\"\\s*:\\s*\"(?:{neg_alt})\"'}}\n",
    "        ]\n",
    "        })\n",
    "\n",
    "        if has_complete and neg_count <= 3:\n",
    "            return \"green\"\n",
    "        else:\n",
    "            return \"yellow\""
   ]
  },
  {
   "cell_type": "code",
   "execution_count": 244,
   "id": "3e6214b3-c869-422f-9221-23a0b446b2ca",
   "metadata": {},
   "outputs": [
    {
     "data": {
      "text/plain": [
       "{'sean3@mhs': 'green', 'wenyi3@mhs': 'yellow', 'sean1@mhs': 'white'}"
      ]
     },
     "execution_count": 244,
     "metadata": {},
     "output_type": "execute_result"
    }
   ],
   "source": [
    "pids_u2c7_to_color = {pid: color_u2c7_for_pid(coll, pid) for pid in pids}\n",
    "pids_u2c7_to_color"
   ]
  },
  {
   "cell_type": "code",
   "execution_count": null,
   "id": "8ab837ea-87fd-4f4f-acea-49c1d5f95d80",
   "metadata": {},
   "outputs": [],
   "source": []
  },
  {
   "cell_type": "code",
   "execution_count": null,
   "id": "ac4a0306-05ac-4670-8aae-682943ed14a7",
   "metadata": {},
   "outputs": [],
   "source": []
  },
  {
   "cell_type": "code",
   "execution_count": null,
   "id": "1d400cd3-994f-4cac-a249-870b7e615809",
   "metadata": {},
   "outputs": [],
   "source": []
  },
  {
   "cell_type": "code",
   "execution_count": null,
   "id": "0de9e65f-1af1-4310-a3bc-ddb16dc13a9e",
   "metadata": {},
   "outputs": [],
   "source": []
  },
  {
   "cell_type": "code",
   "execution_count": null,
   "id": "64783147-19bb-4a2e-ad6c-ce464391c36e",
   "metadata": {},
   "outputs": [],
   "source": []
  },
  {
   "cell_type": "code",
   "execution_count": null,
   "id": "49c00efd-79b6-439d-8206-a59895f5e502",
   "metadata": {},
   "outputs": [],
   "source": []
  },
  {
   "cell_type": "code",
   "execution_count": null,
   "id": "793c805a-e6bc-47ed-81d7-e4f6ede19941",
   "metadata": {},
   "outputs": [],
   "source": []
  },
  {
   "cell_type": "code",
   "execution_count": null,
   "id": "f6510399-e387-4460-b677-5da8aca965b6",
   "metadata": {},
   "outputs": [],
   "source": []
  }
 ],
 "metadata": {
  "kernelspec": {
   "display_name": "Python 3 (ipykernel)",
   "language": "python",
   "name": "python3"
  },
  "language_info": {
   "codemirror_mode": {
    "name": "ipython",
    "version": 3
   },
   "file_extension": ".py",
   "mimetype": "text/x-python",
   "name": "python",
   "nbconvert_exporter": "python",
   "pygments_lexer": "ipython3",
   "version": "3.12.11"
  }
 },
 "nbformat": 4,
 "nbformat_minor": 5
}
