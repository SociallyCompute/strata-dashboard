{
 "cells": [
  {
   "cell_type": "markdown",
   "id": "d62f40d0-d76c-4488-ad7b-d44630f99902",
   "metadata": {},
   "source": [
    "# Library"
   ]
  },
  {
   "cell_type": "code",
   "execution_count": 1,
   "id": "73cb9a9c-af94-40c3-ba04-95ac6b1ef26a",
   "metadata": {},
   "outputs": [],
   "source": [
    "from dotenv import load_dotenv\n",
    "import os\n",
    "from pymongo import MongoClient\n",
    "from datetime import timedelta"
   ]
  },
  {
   "cell_type": "markdown",
   "id": "c31811f9-a5ce-47fe-9a89-651ebfac4431",
   "metadata": {},
   "source": [
    "# Connect to the server"
   ]
  },
  {
   "cell_type": "code",
   "execution_count": 2,
   "id": "734a3d5a-7b01-4526-b899-2ccd823b04e6",
   "metadata": {},
   "outputs": [
    {
     "name": "stdout",
     "output_type": "stream",
     "text": [
      "Connected OK!\n"
     ]
    }
   ],
   "source": [
    "load_dotenv()\n",
    "\n",
    "uri = os.getenv(\"MONGODB_URI\")\n",
    "client = MongoClient(uri)\n",
    "client.admin.command(\"ping\")\n",
    "print(\"Connected OK!\")"
   ]
  },
  {
   "cell_type": "code",
   "execution_count": 3,
   "id": "85f475f5-e958-4f40-abd5-d7f46e529b77",
   "metadata": {},
   "outputs": [],
   "source": [
    "db = client[os.getenv(\"DB_NAME\")]\n",
    "coll = db[os.getenv(\"COLL_NAME\")]"
   ]
  },
  {
   "cell_type": "markdown",
   "id": "7d042498-3551-4008-8c0f-b75abf9117c7",
   "metadata": {},
   "source": [
    "# Unique event types"
   ]
  },
  {
   "cell_type": "code",
   "execution_count": 5,
   "id": "d536d2ad-0192-4ec6-9723-713ec2bb7862",
   "metadata": {},
   "outputs": [
    {
     "name": "stdout",
     "output_type": "stream",
     "text": [
      "7\n",
      "['DialogueEvent', 'Topographic Map Event', 'argumentationEvent', 'argumentationNodeEvent', 'argumentationToolEvent', 'playerPositionEvent', 'questEvent']\n"
     ]
    }
   ],
   "source": [
    "unique_types = coll.distinct(\n",
    "    \"event_type\",\n",
    "    {\"player_id\": \"wenyi4@mhs\", \"event_type\": {\"$ne\": None}}\n",
    ")\n",
    "print(len(unique_types))\n",
    "print(unique_types)    "
   ]
  },
  {
   "cell_type": "markdown",
   "id": "27132784-3976-4780-a4af-ee24984e669b",
   "metadata": {},
   "source": [
    "# Dialogue Event"
   ]
  },
  {
   "cell_type": "code",
   "execution_count": 8,
   "id": "6e024351-3e4d-485c-8b09-32c740d8f901",
   "metadata": {},
   "outputs": [],
   "source": [
    "dialogue = coll.find(\n",
    "    {\"player_id\": \"wenyi4@mhs\", \"event_type\": \"DialogueEvent\"}\n",
    ")"
   ]
  },
  {
   "cell_type": "code",
   "execution_count": 10,
   "id": "b6d3493f-bacf-4dbc-88c9-c735435037a9",
   "metadata": {},
   "outputs": [
    {
     "data": {
      "text/plain": [
       "[{'_id': ObjectId('68d7294c72ebf4f11406e37c'),\n",
       "  'game': 'mhs',\n",
       "  'player_id': 'wenyi4@mhs',\n",
       "  'timestamp': datetime.datetime(2025, 9, 27, 0, 1, 16, 811000),\n",
       "  'event_type': 'DialogueEvent',\n",
       "  'event_data': '{\"dialogueEventType\":\"DialogueNodeEvent\",\"conversationId\":\"30\",\"nodeId\":\"1\"}',\n",
       "  'device_info': {'platform': 'WebGLPlayer', 'browser': 'WebGL_Browser'}},\n",
       " {'_id': ObjectId('68d7295372ebf4f11406e37e'),\n",
       "  'game': 'mhs',\n",
       "  'player_id': 'wenyi4@mhs',\n",
       "  'timestamp': datetime.datetime(2025, 9, 27, 0, 1, 23, 828000),\n",
       "  'event_type': 'DialogueEvent',\n",
       "  'event_data': '{\"dialogueEventType\":\"DialogueNodeEvent\",\"conversationId\":\"30\",\"nodeId\":\"2\"}',\n",
       "  'device_info': {'platform': 'WebGLPlayer', 'browser': 'WebGL_Browser'}},\n",
       " {'_id': ObjectId('68d7295772ebf4f11406e37f'),\n",
       "  'game': 'mhs',\n",
       "  'player_id': 'wenyi4@mhs',\n",
       "  'timestamp': datetime.datetime(2025, 9, 27, 0, 1, 27, 955000),\n",
       "  'event_type': 'DialogueEvent',\n",
       "  'event_data': '{\"dialogueEventType\":\"DialogueNodeEvent\",\"conversationId\":\"30\",\"nodeId\":\"5\"}',\n",
       "  'device_info': {'platform': 'WebGLPlayer', 'browser': 'WebGL_Browser'}},\n",
       " {'_id': ObjectId('68d7295872ebf4f11406e380'),\n",
       "  'game': 'mhs',\n",
       "  'player_id': 'wenyi4@mhs',\n",
       "  'timestamp': datetime.datetime(2025, 9, 27, 0, 1, 28, 937000),\n",
       "  'event_type': 'DialogueEvent',\n",
       "  'event_data': '{\"dialogueEventType\":\"DialogueNodeEvent\",\"conversationId\":\"30\",\"nodeId\":\"7\"}',\n",
       "  'device_info': {'platform': 'WebGLPlayer', 'browser': 'WebGL_Browser'}},\n",
       " {'_id': ObjectId('68d7295b72ebf4f11406e381'),\n",
       "  'game': 'mhs',\n",
       "  'player_id': 'wenyi4@mhs',\n",
       "  'timestamp': datetime.datetime(2025, 9, 27, 0, 1, 31, 239000),\n",
       "  'event_type': 'DialogueEvent',\n",
       "  'event_data': '{\"dialogueEventType\":\"DialogueNodeEvent\",\"conversationId\":\"30\",\"nodeId\":\"8\"}',\n",
       "  'device_info': {'platform': 'WebGLPlayer', 'browser': 'WebGL_Browser'}},\n",
       " {'_id': ObjectId('68d7295c72ebf4f11406e383'),\n",
       "  'game': 'mhs',\n",
       "  'player_id': 'wenyi4@mhs',\n",
       "  'timestamp': datetime.datetime(2025, 9, 27, 0, 1, 32, 37000),\n",
       "  'event_type': 'DialogueEvent',\n",
       "  'event_data': '{\"dialogueEventType\":\"DialogueNodeEvent\",\"conversationId\":\"30\",\"nodeId\":\"10\"}',\n",
       "  'device_info': {'platform': 'WebGLPlayer', 'browser': 'WebGL_Browser'}},\n",
       " {'_id': ObjectId('68d7295c72ebf4f11406e384'),\n",
       "  'game': 'mhs',\n",
       "  'player_id': 'wenyi4@mhs',\n",
       "  'timestamp': datetime.datetime(2025, 9, 27, 0, 1, 32, 471000),\n",
       "  'event_type': 'DialogueEvent',\n",
       "  'event_data': '{\"dialogueEventType\":\"DialogueNodeEvent\",\"conversationId\":\"30\",\"nodeId\":\"89\"}',\n",
       "  'device_info': {'platform': 'WebGLPlayer', 'browser': 'WebGL_Browser'}},\n",
       " {'_id': ObjectId('68d7296f72ebf4f11406e385'),\n",
       "  'game': 'mhs',\n",
       "  'player_id': 'wenyi4@mhs',\n",
       "  'timestamp': datetime.datetime(2025, 9, 27, 0, 1, 51, 810000),\n",
       "  'event_type': 'DialogueEvent',\n",
       "  'event_data': '{\"dialogueEventType\":\"DialogueNodeEvent\",\"conversationId\":\"30\",\"nodeId\":\"13\"}',\n",
       "  'device_info': {'platform': 'WebGLPlayer', 'browser': 'WebGL_Browser'}},\n",
       " {'_id': ObjectId('68d7297072ebf4f11406e386'),\n",
       "  'game': 'mhs',\n",
       "  'player_id': 'wenyi4@mhs',\n",
       "  'timestamp': datetime.datetime(2025, 9, 27, 0, 1, 52, 365000),\n",
       "  'event_type': 'DialogueEvent',\n",
       "  'event_data': '{\"dialogueEventType\":\"DialogueNodeEvent\",\"conversationId\":\"30\",\"nodeId\":\"90\"}',\n",
       "  'device_info': {'platform': 'WebGLPlayer', 'browser': 'WebGL_Browser'}},\n",
       " {'_id': ObjectId('68d7297272ebf4f11406e387'),\n",
       "  'game': 'mhs',\n",
       "  'player_id': 'wenyi4@mhs',\n",
       "  'timestamp': datetime.datetime(2025, 9, 27, 0, 1, 54, 796000),\n",
       "  'event_type': 'DialogueEvent',\n",
       "  'event_data': '{\"dialogueEventType\":\"DialogueNodeEvent\",\"conversationId\":\"30\",\"nodeId\":\"14\"}',\n",
       "  'device_info': {'platform': 'WebGLPlayer', 'browser': 'WebGL_Browser'}}]"
      ]
     },
     "execution_count": 10,
     "metadata": {},
     "output_type": "execute_result"
    }
   ],
   "source": [
    "list(dialogue)[:10]"
   ]
  },
  {
   "cell_type": "markdown",
   "id": "8a2c057b-7817-4b00-838b-18afc02f1923",
   "metadata": {},
   "source": [
    "## Ideal JSON format example"
   ]
  },
  {
   "cell_type": "code",
   "execution_count": null,
   "id": "f140fdc0-fc99-4163-b9ba-9abd6906ab56",
   "metadata": {},
   "outputs": [],
   "source": [
    "{\n",
    "  \"id\": \"68d7294c72ebf4f11406e37c\",\n",
    "  \"game\": \"mhs\",\n",
    "  \"playerId\": \"wenyi4@mhs\",\n",
    "  \"timestamp\": \"2025-09-27T00:01:16.811Z\",\n",
    "  \"eventType\": \"DialogueEvent\",\n",
    "  \"eventKey\": \"dialogue:30:11\",\n",
    "  \"data\": {\n",
    "    \"dialogueEventType\": \"DialogueNodeEvent\",\n",
    "    \"conversationId\": 30,\n",
    "    \"nodeId\": 11\n",
    "  },\n",
    "  \"device\": {\n",
    "    \"platform\": \"WebGLPlayer\",\n",
    "    \"browser\": \"WebGL Browser\"\n",
    "  }\n",
    "}"
   ]
  },
  {
   "cell_type": "markdown",
   "id": "db8a00c1-6f02-43f5-9094-0432936a98ee",
   "metadata": {},
   "source": [
    "# Topographic Map Event"
   ]
  },
  {
   "cell_type": "code",
   "execution_count": 12,
   "id": "e5c7df88-f859-4a78-a395-5677a90311b6",
   "metadata": {},
   "outputs": [],
   "source": [
    "map_log = coll.find(\n",
    "    {\"player_id\": \"wenyi4@mhs\", \"event_type\": \"Topographic Map Event\"}\n",
    ")"
   ]
  },
  {
   "cell_type": "code",
   "execution_count": 13,
   "id": "d8adb7cc-c0bd-4098-b2fd-d7b5d1c821dc",
   "metadata": {},
   "outputs": [
    {
     "data": {
      "text/plain": [
       "[{'_id': ObjectId('68d72e5472ebf4f11406e4ce'),\n",
       "  'game': 'mhs',\n",
       "  'player_id': 'wenyi4@mhs',\n",
       "  'timestamp': datetime.datetime(2025, 9, 27, 0, 22, 44, 673000),\n",
       "  'event_type': 'Topographic Map Event',\n",
       "  'event_data': '{\"featureUsed\":\"Map\",\"actionType\":\"MapOpenEvent\"}',\n",
       "  'device_info': {'platform': 'WebGLPlayer', 'browser': 'WebGL_Browser'}},\n",
       " {'_id': ObjectId('68d72e5772ebf4f11406e4cf'),\n",
       "  'game': 'mhs',\n",
       "  'player_id': 'wenyi4@mhs',\n",
       "  'timestamp': datetime.datetime(2025, 9, 27, 0, 22, 47, 658000),\n",
       "  'event_type': 'Topographic Map Event',\n",
       "  'event_data': '{\"featureUsed\":\"waypoint\",\"actionType\":\"dragStart\",\"locationInfo\":\"(-770.79, -307.40, 0.00)\"}',\n",
       "  'device_info': {'platform': 'WebGLPlayer', 'browser': 'WebGL_Browser'}},\n",
       " {'_id': ObjectId('68d72e5972ebf4f11406e4d0'),\n",
       "  'game': 'mhs',\n",
       "  'player_id': 'wenyi4@mhs',\n",
       "  'timestamp': datetime.datetime(2025, 9, 27, 0, 22, 49, 957000),\n",
       "  'event_type': 'Topographic Map Event',\n",
       "  'event_data': '{\"featureUsed\":\"waypoint\",\"actionType\":\"dragEnd\",\"locationInfo\":\"(-160.45, 85.50, 0.00)\"}',\n",
       "  'device_info': {'platform': 'WebGLPlayer', 'browser': 'WebGL_Browser'}},\n",
       " {'_id': ObjectId('68d72e5a72ebf4f11406e4d1'),\n",
       "  'game': 'mhs',\n",
       "  'player_id': 'wenyi4@mhs',\n",
       "  'timestamp': datetime.datetime(2025, 9, 27, 0, 22, 50, 10000),\n",
       "  'event_type': 'Topographic Map Event',\n",
       "  'event_data': '{\"featureUsed\":\"Map\",\"actionType\":\"MapCloseEvent\"}',\n",
       "  'device_info': {'platform': 'WebGLPlayer', 'browser': 'WebGL_Browser'}},\n",
       " {'_id': ObjectId('68d72f1172ebf4f11406e4f7'),\n",
       "  'game': 'mhs',\n",
       "  'player_id': 'wenyi4@mhs',\n",
       "  'timestamp': datetime.datetime(2025, 9, 27, 0, 25, 53, 244000),\n",
       "  'event_type': 'Topographic Map Event',\n",
       "  'event_data': '{\"featureUsed\":\"waypoint\",\"actionType\":\"dragStart\",\"locationInfo\":\"(-160.45, 85.50, 0.00)\"}',\n",
       "  'device_info': {'platform': 'WebGLPlayer', 'browser': 'WebGL_Browser'}},\n",
       " {'_id': ObjectId('68d72f1372ebf4f11406e4f8'),\n",
       "  'game': 'mhs',\n",
       "  'player_id': 'wenyi4@mhs',\n",
       "  'timestamp': datetime.datetime(2025, 9, 27, 0, 25, 55, 588000),\n",
       "  'event_type': 'Topographic Map Event',\n",
       "  'event_data': '{\"featureUsed\":\"waypoint\",\"actionType\":\"dragEnd\",\"locationInfo\":\"(-202.44, 130.49, 0.00)\"}',\n",
       "  'device_info': {'platform': 'WebGLPlayer', 'browser': 'WebGL_Browser'}},\n",
       " {'_id': ObjectId('68d72f1372ebf4f11406e4f9'),\n",
       "  'game': 'mhs',\n",
       "  'player_id': 'wenyi4@mhs',\n",
       "  'timestamp': datetime.datetime(2025, 9, 27, 0, 25, 55, 644000),\n",
       "  'event_type': 'Topographic Map Event',\n",
       "  'event_data': '{\"featureUsed\":\"Map\",\"actionType\":\"MapCloseEvent\"}',\n",
       "  'device_info': {'platform': 'WebGLPlayer', 'browser': 'WebGL_Browser'}},\n",
       " {'_id': ObjectId('68d72f0c72ebf4f11406e4f3'),\n",
       "  'game': 'mhs',\n",
       "  'player_id': 'wenyi4@mhs',\n",
       "  'timestamp': datetime.datetime(2025, 9, 27, 0, 25, 48, 308000),\n",
       "  'event_type': 'Topographic Map Event',\n",
       "  'event_data': '{\"featureUsed\":\"Map\",\"actionType\":\"MapOpenEvent\"}',\n",
       "  'device_info': {'platform': 'WebGLPlayer', 'browser': 'WebGL_Browser'}},\n",
       " {'_id': ObjectId('68d72fa372ebf4f11406e50c'),\n",
       "  'game': 'mhs',\n",
       "  'player_id': 'wenyi4@mhs',\n",
       "  'timestamp': datetime.datetime(2025, 9, 27, 0, 28, 19, 184000),\n",
       "  'event_type': 'Topographic Map Event',\n",
       "  'event_data': '{\"featureUsed\":\"Map\",\"actionType\":\"MapOpenEvent\"}',\n",
       "  'device_info': {'platform': 'WebGLPlayer', 'browser': 'WebGL_Browser'}},\n",
       " {'_id': ObjectId('68d72fa572ebf4f11406e510'),\n",
       "  'game': 'mhs',\n",
       "  'player_id': 'wenyi4@mhs',\n",
       "  'timestamp': datetime.datetime(2025, 9, 27, 0, 28, 21, 278000),\n",
       "  'event_type': 'Topographic Map Event',\n",
       "  'event_data': '{\"featureUsed\":\"waypoint\",\"actionType\":\"dragStart\",\"locationInfo\":\"(-202.44, 130.49, 0.00)\"}',\n",
       "  'device_info': {'platform': 'WebGLPlayer', 'browser': 'WebGL_Browser'}}]"
      ]
     },
     "execution_count": 13,
     "metadata": {},
     "output_type": "execute_result"
    }
   ],
   "source": [
    "list(map_log)[:10]"
   ]
  },
  {
   "cell_type": "markdown",
   "id": "f6ad018e-0f91-4f89-9ece-db64d6198abb",
   "metadata": {},
   "source": [
    "## Ideal JSON format "
   ]
  },
  {
   "cell_type": "code",
   "execution_count": null,
   "id": "6cf982bd-2415-4d8a-886e-0fac01b2362e",
   "metadata": {},
   "outputs": [],
   "source": [
    "{\n",
    "  \"id\": \"68d72e5472ebf4f11406e4ce\",\n",
    "  \"game\": \"mhs\",\n",
    "  \"playerId\": \"wenyi4@mhs\",\n",
    "  \"timestamp\": \"2025-09-27T00:22:44.673Z\",\n",
    "  \"eventType\": \"TopographicMapEvent\",\n",
    "  \"data\": {\n",
    "    \"featureUsed\": \"Map\",\n",
    "    \"actionType\": \"MapOpenEvent\"\n",
    "  },\n",
    "  \"device\": {\n",
    "    \"platform\": \"WebGLPlayer\",\n",
    "    \"browser\": \"WebGL_Browser\"\n",
    "  }\n",
    "}"
   ]
  },
  {
   "cell_type": "markdown",
   "id": "bd51e063-04b7-4d73-8621-91df63f69f0a",
   "metadata": {},
   "source": [
    "# Argumentation open"
   ]
  },
  {
   "cell_type": "code",
   "execution_count": 14,
   "id": "273d589a-5d82-47ce-8c46-50730560a155",
   "metadata": {},
   "outputs": [],
   "source": [
    "argumentation = coll.find(\n",
    "    {\"player_id\": \"wenyi4@mhs\", \"event_type\": \"argumentationEvent\"}\n",
    ")"
   ]
  },
  {
   "cell_type": "code",
   "execution_count": 15,
   "id": "1fa8ac19-d396-4b24-b3d6-c0975318e5d1",
   "metadata": {},
   "outputs": [
    {
     "data": {
      "text/plain": [
       "[{'_id': ObjectId('68d72b4972ebf4f11406e417'),\n",
       "  'game': 'mhs',\n",
       "  'player_id': 'wenyi4@mhs',\n",
       "  'timestamp': datetime.datetime(2025, 9, 27, 0, 9, 45, 798000),\n",
       "  'event_type': 'argumentationEvent',\n",
       "  'event_data': '{\"actionType\":\"argumentationSessionOpen\",\"argumentationTitle\":\"Unit 1 - Argumentation Tutorial\",\"argumentationDescription\":\"U1 - Argumentation tutorial - Place the claim, reasoning, and evidence orbs in orbit\"}',\n",
       "  'device_info': {'platform': 'WebGLPlayer', 'browser': 'WebGL_Browser'}},\n",
       " {'_id': ObjectId('68d72b5c72ebf4f11406e421'),\n",
       "  'game': 'mhs',\n",
       "  'player_id': 'wenyi4@mhs',\n",
       "  'timestamp': datetime.datetime(2025, 9, 27, 0, 10, 4, 455000),\n",
       "  'event_type': 'argumentationEvent',\n",
       "  'event_data': '{\"actionType\":\"argumentationSessionClose\",\"argumentationTitle\":\"Unit 1 - Argumentation Tutorial\",\"argumentationDescription\":\"U1 - Argumentation tutorial - Place the claim, reasoning, and evidence orbs in orbit\"}',\n",
       "  'device_info': {'platform': 'WebGLPlayer', 'browser': 'WebGL_Browser'}},\n",
       " {'_id': ObjectId('68d72b6572ebf4f11406e42e'),\n",
       "  'game': 'mhs',\n",
       "  'player_id': 'wenyi4@mhs',\n",
       "  'timestamp': datetime.datetime(2025, 9, 27, 0, 10, 13, 962000),\n",
       "  'event_type': 'argumentationEvent',\n",
       "  'event_data': '{\"actionType\":\"argumentationSessionOpen\",\"argumentationTitle\":\"Unit 1 - Freshwater\",\"argumentationDescription\":\"Unit 1 - Does the planet WAT-247 have freshwater\"}',\n",
       "  'device_info': {'platform': 'WebGLPlayer', 'browser': 'WebGL_Browser'}},\n",
       " {'_id': ObjectId('68d72b7672ebf4f11406e434'),\n",
       "  'game': 'mhs',\n",
       "  'player_id': 'wenyi4@mhs',\n",
       "  'timestamp': datetime.datetime(2025, 9, 27, 0, 10, 30, 701000),\n",
       "  'event_type': 'argumentationEvent',\n",
       "  'event_data': '{\"actionType\":\"argumentationSessionClose\",\"argumentationTitle\":\"Unit 1 - Freshwater\",\"argumentationDescription\":\"Unit 1 - Does the planet WAT-247 have freshwater\"}',\n",
       "  'device_info': {'platform': 'WebGLPlayer', 'browser': 'WebGL_Browser'}},\n",
       " {'_id': ObjectId('68d7361e72ebf4f11406e66a'),\n",
       "  'game': 'mhs',\n",
       "  'player_id': 'wenyi4@mhs',\n",
       "  'timestamp': datetime.datetime(2025, 9, 27, 0, 55, 58, 397000),\n",
       "  'event_type': 'argumentationEvent',\n",
       "  'event_data': '{\"actionType\":\"argumentationSessionOpen\",\"argumentationTitle\":\"Unit 2 – Watershed\",\"argumentationDescription\":\"U2 – Watershed - Which watershed is bigger based on collected evidence from eastern and western waterfalls\"}',\n",
       "  'device_info': {'platform': 'WebGLPlayer', 'browser': 'WebGL_Browser'}},\n",
       " {'_id': ObjectId('68d7362f72ebf4f11406e670'),\n",
       "  'game': 'mhs',\n",
       "  'player_id': 'wenyi4@mhs',\n",
       "  'timestamp': datetime.datetime(2025, 9, 27, 0, 56, 15, 960000),\n",
       "  'event_type': 'argumentationEvent',\n",
       "  'event_data': '{\"actionType\":\"argumentationSessionClose\",\"argumentationTitle\":\"Unit 2 – Watershed\",\"argumentationDescription\":\"U2 – Watershed - Which watershed is bigger based on collected evidence from eastern and western waterfalls\"}',\n",
       "  'device_info': {'platform': 'WebGLPlayer', 'browser': 'WebGL_Browser'}}]"
      ]
     },
     "execution_count": 15,
     "metadata": {},
     "output_type": "execute_result"
    }
   ],
   "source": [
    "list(argumentation)[:10]"
   ]
  },
  {
   "cell_type": "markdown",
   "id": "fc819294-a997-450b-985c-d5025d240c0d",
   "metadata": {},
   "source": [
    "## Ideal JSON format "
   ]
  },
  {
   "cell_type": "code",
   "execution_count": null,
   "id": "b57bdbfe-7fa2-4775-ab17-265495fe2b9c",
   "metadata": {},
   "outputs": [],
   "source": [
    "{\n",
    "  \"id\": \"68d72b4972ebf4f11406e417\",\n",
    "  \"game\": \"mhs\",\n",
    "  \"playerId\": \"wenyi4@mhs\",\n",
    "  \"timestamp\": \"2025-09-27T00:09:45.798Z\",\n",
    "  \"eventType\": \"ArgumentationEvent\",\n",
    "  \"data\": {\n",
    "    \"actionType\": \"argumentationSessionOpen\",\n",
    "    \"title\": \"Unit 1 - Argumentation Tutorial\",\n",
    "    \"description\": \"U1 Argumentation tutorial - Place the claim, reasoning, and evidence orbs in orbit\"\n",
    "  },\n",
    "  \"device\": {\n",
    "    \"platform\": \"WebGLPlayer\",\n",
    "    \"browser\": \"WebGL_Browser\"\n",
    "  }\n",
    "}"
   ]
  },
  {
   "cell_type": "markdown",
   "id": "a68a96fe-aafa-41c3-8b81-d3fe0d51bc59",
   "metadata": {},
   "source": [
    "# Argumentation node event"
   ]
  },
  {
   "cell_type": "code",
   "execution_count": 18,
   "id": "54c7a7b9-3872-47ca-903b-b652d369c10e",
   "metadata": {},
   "outputs": [],
   "source": [
    "argumentation_node = coll.find(\n",
    "    {\"player_id\": \"wenyi4@mhs\", \"event_type\": \"argumentationNodeEvent\"}\n",
    ")"
   ]
  },
  {
   "cell_type": "code",
   "execution_count": 19,
   "id": "6a91d3d9-6534-484a-a909-652355010dfb",
   "metadata": {},
   "outputs": [
    {
     "data": {
      "text/plain": [
       "[{'_id': ObjectId('68d72b4e72ebf4f11406e418'),\n",
       "  'game': 'mhs',\n",
       "  'player_id': 'wenyi4@mhs',\n",
       "  'timestamp': datetime.datetime(2025, 9, 27, 0, 9, 50, 679000),\n",
       "  'event_type': 'argumentationNodeEvent',\n",
       "  'event_data': '{\"actionType\":\"argumentationNodeAdd\",\"argumentationTitle\":\"Unit 1 - Argumentation Tutorial\",\"nodeName\":\"I\"}',\n",
       "  'device_info': {'browser': 'WebGL_Browser', 'platform': 'WebGLPlayer'}},\n",
       " {'_id': ObjectId('68d72b5272ebf4f11406e41a'),\n",
       "  'game': 'mhs',\n",
       "  'player_id': 'wenyi4@mhs',\n",
       "  'timestamp': datetime.datetime(2025, 9, 27, 0, 9, 54, 442000),\n",
       "  'event_type': 'argumentationNodeEvent',\n",
       "  'event_data': '{\"actionType\":\"argumentationNodeAdd\",\"argumentationTitle\":\"Unit 1 - Argumentation Tutorial\",\"nodeName\":\"A\"}',\n",
       "  'device_info': {'platform': 'WebGLPlayer', 'browser': 'WebGL_Browser'}},\n",
       " {'_id': ObjectId('68d72b5572ebf4f11406e41c'),\n",
       "  'game': 'mhs',\n",
       "  'player_id': 'wenyi4@mhs',\n",
       "  'timestamp': datetime.datetime(2025, 9, 27, 0, 9, 57, 604000),\n",
       "  'event_type': 'argumentationNodeEvent',\n",
       "  'event_data': '{\"actionType\":\"argumentationNodeAdd\",\"argumentationTitle\":\"Unit 1 - Argumentation Tutorial\",\"nodeName\":\"1\"}',\n",
       "  'device_info': {'platform': 'WebGLPlayer', 'browser': 'WebGL_Browser'}},\n",
       " {'_id': ObjectId('68d72b6972ebf4f11406e431'),\n",
       "  'game': 'mhs',\n",
       "  'player_id': 'wenyi4@mhs',\n",
       "  'timestamp': datetime.datetime(2025, 9, 27, 0, 10, 17, 375000),\n",
       "  'event_type': 'argumentationNodeEvent',\n",
       "  'event_data': '{\"actionType\":\"argumentationNodeAdd\",\"argumentationTitle\":\"Unit 1 - Freshwater\",\"nodeName\":\"I\"}',\n",
       "  'device_info': {'platform': 'WebGLPlayer', 'browser': 'WebGL_Browser'}},\n",
       " {'_id': ObjectId('68d72b6b72ebf4f11406e432'),\n",
       "  'game': 'mhs',\n",
       "  'player_id': 'wenyi4@mhs',\n",
       "  'timestamp': datetime.datetime(2025, 9, 27, 0, 10, 19, 181000),\n",
       "  'event_type': 'argumentationNodeEvent',\n",
       "  'event_data': '{\"actionType\":\"argumentationNodeAdd\",\"argumentationTitle\":\"Unit 1 - Freshwater\",\"nodeName\":\"1\"}',\n",
       "  'device_info': {'platform': 'WebGLPlayer', 'browser': 'WebGL_Browser'}},\n",
       " {'_id': ObjectId('68d72b7472ebf4f11406e433'),\n",
       "  'game': 'mhs',\n",
       "  'player_id': 'wenyi4@mhs',\n",
       "  'timestamp': datetime.datetime(2025, 9, 27, 0, 10, 28, 297000),\n",
       "  'event_type': 'argumentationNodeEvent',\n",
       "  'event_data': '{\"actionType\":\"argumentationNodeAdd\",\"argumentationTitle\":\"Unit 1 - Freshwater\",\"nodeName\":\"B\"}',\n",
       "  'device_info': {'platform': 'WebGLPlayer', 'browser': 'WebGL_Browser'}},\n",
       " {'_id': ObjectId('68d7362072ebf4f11406e66d'),\n",
       "  'game': 'mhs',\n",
       "  'player_id': 'wenyi4@mhs',\n",
       "  'timestamp': datetime.datetime(2025, 9, 27, 0, 56, 0, 806000),\n",
       "  'event_type': 'argumentationNodeEvent',\n",
       "  'event_data': '{\"actionType\":\"argumentationNodeAdd\",\"argumentationTitle\":\"Unit 2 – Watershed\",\"nodeName\":\"1\"}',\n",
       "  'device_info': {'browser': 'WebGL_Browser', 'platform': 'WebGLPlayer'}},\n",
       " {'_id': ObjectId('68d7362a72ebf4f11406e66e'),\n",
       "  'game': 'mhs',\n",
       "  'player_id': 'wenyi4@mhs',\n",
       "  'timestamp': datetime.datetime(2025, 9, 27, 0, 56, 10, 72000),\n",
       "  'event_type': 'argumentationNodeEvent',\n",
       "  'event_data': '{\"actionType\":\"argumentationNodeAdd\",\"argumentationTitle\":\"Unit 2 – Watershed\",\"nodeName\":\"A\"}',\n",
       "  'device_info': {'platform': 'WebGLPlayer', 'browser': 'WebGL_Browser'}},\n",
       " {'_id': ObjectId('68d7362d72ebf4f11406e66f'),\n",
       "  'game': 'mhs',\n",
       "  'player_id': 'wenyi4@mhs',\n",
       "  'timestamp': datetime.datetime(2025, 9, 27, 0, 56, 13, 83000),\n",
       "  'event_type': 'argumentationNodeEvent',\n",
       "  'event_data': '{\"actionType\":\"argumentationNodeAdd\",\"argumentationTitle\":\"Unit 2 – Watershed\",\"nodeName\":\"II\"}',\n",
       "  'device_info': {'platform': 'WebGLPlayer', 'browser': 'WebGL_Browser'}}]"
      ]
     },
     "execution_count": 19,
     "metadata": {},
     "output_type": "execute_result"
    }
   ],
   "source": [
    "list(argumentation_node)[:10]"
   ]
  },
  {
   "cell_type": "markdown",
   "id": "bdf6e553-d147-4da8-bbfa-f4ae09ae90c2",
   "metadata": {},
   "source": [
    "## Ideal JSON format "
   ]
  },
  {
   "cell_type": "code",
   "execution_count": null,
   "id": "e7a274d0-e5ad-4a66-9f9a-b533406a286b",
   "metadata": {},
   "outputs": [],
   "source": [
    "{\n",
    "  \"id\": \"68d72b4e72ebf4f11406e418\",\n",
    " \"game\": \"mhs\",\n",
    "  \"playerId\": \"wenyi4@mhs\",\n",
    "  \"timestamp\": \"2025-09-27T00:09:50.679Z\",\n",
    "  \"eventType\": \"ArgumentationNodeEvent\",\n",
    "  \"data\": {\n",
    "    \"actionType\": \"argumentationNodeAdd\",\n",
    "    \"title\": \"Unit 1 - Argumentation Tutorial\",\n",
    "    \"node\": {\n",
    "      \"name\": \"I\"\n",
    "    }\n",
    "  },\n",
    "  \"device\": {\n",
    "    \"platform\": \"WebGLPlayer\",\n",
    "    \"browser\": \"WebGL_Browser\"\n",
    "  }\n",
    "}"
   ]
  },
  {
   "cell_type": "markdown",
   "id": "3dce2d74-b9cb-4557-8948-3767bc25f1fe",
   "metadata": {},
   "source": [
    "# Argumentation tool event"
   ]
  },
  {
   "cell_type": "code",
   "execution_count": 20,
   "id": "59cbbb90-e5f7-41fa-807b-b1111e8ccc40",
   "metadata": {},
   "outputs": [],
   "source": [
    "argumentation_tool = coll.find(\n",
    "    {\"player_id\": \"wenyi4@mhs\", \"event_type\": \"argumentationToolEvent\"}\n",
    ")"
   ]
  },
  {
   "cell_type": "code",
   "execution_count": 21,
   "id": "b7185c4b-28c9-4c64-ae63-20e6f8766bee",
   "metadata": {},
   "outputs": [
    {
     "data": {
      "text/plain": [
       "[{'_id': ObjectId('68d7361e72ebf4f11406e669'),\n",
       "  'game': 'mhs',\n",
       "  'player_id': 'wenyi4@mhs',\n",
       "  'timestamp': datetime.datetime(2025, 9, 27, 0, 55, 58, 309000),\n",
       "  'event_type': 'argumentationToolEvent',\n",
       "  'event_data': '{\"actionType\":\"argumentationToolClose\",\"argumentationTitle\":\"Unit 2 – Watershed\",\"toolName\":\"BackingInfoPanel - \"}',\n",
       "  'device_info': {'platform': 'WebGLPlayer', 'browser': 'WebGL_Browser'}}]"
      ]
     },
     "execution_count": 21,
     "metadata": {},
     "output_type": "execute_result"
    }
   ],
   "source": [
    "list(argumentation_tool)[:10]"
   ]
  },
  {
   "cell_type": "markdown",
   "id": "46808e28-b5f2-4e54-ac72-d34c7a5a1556",
   "metadata": {},
   "source": [
    "## Ideal JSON format"
   ]
  },
  {
   "cell_type": "code",
   "execution_count": null,
   "id": "3c3c6528-5cfc-423c-ba4d-a32899b94bec",
   "metadata": {},
   "outputs": [],
   "source": [
    "{\n",
    "  \"id\": \"68d7361e72ebf4f11406e669\",\n",
    "  \"game\": \"mhs\",\n",
    "  \"playerId\": \"wenyi4@mhs\",\n",
    "  \"timestamp\": \"2025-09-27T00:55:58.309Z\",\n",
    "  \"eventType\": \"ArgumentationToolEvent\",\n",
    "  \"data\": {\n",
    "    \"actionType\": \"argumentationToolClose\",\n",
    "    \"title\": \"Unit 2 - Watershed\",\n",
    "    \"tool\": {\n",
    "      \"name\": \"BackingInfoPanel\",\n",
    "      \"state\": \"closed\"\n",
    "    }\n",
    "  },\n",
    "  \"device\": {\n",
    "    \"platform\": \"WebGLPlayer\",\n",
    "    \"browser\": \"WebGL_Browser\"\n",
    "  }\n",
    "}"
   ]
  },
  {
   "cell_type": "markdown",
   "id": "5f29cc7b-d6bf-46bd-a8c0-13fc53fadc5e",
   "metadata": {},
   "source": [
    "# Position event"
   ]
  },
  {
   "cell_type": "code",
   "execution_count": 22,
   "id": "9d7b019e-bc1c-41b9-9aa9-01b2f277abfc",
   "metadata": {},
   "outputs": [],
   "source": [
    "positions = coll.find(\n",
    "    {\"player_id\": \"wenyi4@mhs\", \"event_type\": \"playerPositionEvent\"}\n",
    ")"
   ]
  },
  {
   "cell_type": "code",
   "execution_count": 23,
   "id": "aa0f5522-5385-416c-9ffb-ac08012c9e68",
   "metadata": {},
   "outputs": [
    {
     "data": {
      "text/plain": [
       "[{'_id': ObjectId('68d7293c72ebf4f11406e379'),\n",
       "  'game': 'mhs',\n",
       "  'player_id': 'wenyi4@mhs',\n",
       "  'timestamp': datetime.datetime(2025, 9, 27, 0, 1, 0, 784000),\n",
       "  'event_type': 'playerPositionEvent',\n",
       "  'event_data': '{\"playerPosition\":{\"x\":18.891000747680665,\"y\":5.0,\"z\":-57.98400115966797}}',\n",
       "  'device_info': {'platform': 'WebGLPlayer', 'browser': 'WebGL_Browser'}},\n",
       " {'_id': ObjectId('68d7295b72ebf4f11406e382'),\n",
       "  'game': 'mhs',\n",
       "  'player_id': 'wenyi4@mhs',\n",
       "  'timestamp': datetime.datetime(2025, 9, 27, 0, 1, 31, 393000),\n",
       "  'event_type': 'playerPositionEvent',\n",
       "  'event_data': '{\"playerPosition\":{\"x\":18.891000747680665,\"y\":0.020007014274597169,\"z\":-57.98400115966797}}',\n",
       "  'device_info': {'platform': 'WebGLPlayer', 'browser': 'WebGL_Browser'}},\n",
       " {'_id': ObjectId('68d729b572ebf4f11406e3ad'),\n",
       "  'game': 'mhs',\n",
       "  'player_id': 'wenyi4@mhs',\n",
       "  'timestamp': datetime.datetime(2025, 9, 27, 0, 3, 1, 251000),\n",
       "  'event_type': 'playerPositionEvent',\n",
       "  'event_data': '{\"playerPosition\":{\"x\":-15.957390785217286,\"y\":0.020009756088256837,\"z\":-61.607723236083987}}',\n",
       "  'device_info': {'platform': 'WebGLPlayer', 'browser': 'WebGL_Browser'}},\n",
       " {'_id': ObjectId('68d729d372ebf4f11406e3b8'),\n",
       "  'game': 'mhs',\n",
       "  'player_id': 'wenyi4@mhs',\n",
       "  'timestamp': datetime.datetime(2025, 9, 27, 0, 3, 31, 244000),\n",
       "  'event_type': 'playerPositionEvent',\n",
       "  'event_data': '{\"playerPosition\":{\"x\":-21.20953369140625,\"y\":0.02002020925283432,\"z\":-98.96757507324219}}',\n",
       "  'device_info': {'platform': 'WebGLPlayer', 'browser': 'WebGL_Browser'}},\n",
       " {'_id': ObjectId('68d7297972ebf4f11406e38d'),\n",
       "  'game': 'mhs',\n",
       "  'player_id': 'wenyi4@mhs',\n",
       "  'timestamp': datetime.datetime(2025, 9, 27, 0, 2, 1, 235000),\n",
       "  'event_type': 'playerPositionEvent',\n",
       "  'event_data': '{\"playerPosition\":{\"x\":18.891000747680665,\"y\":0.020007014274597169,\"z\":-57.98400115966797}}',\n",
       "  'device_info': {'platform': 'WebGLPlayer', 'browser': 'WebGL_Browser'}},\n",
       " {'_id': ObjectId('68d7299772ebf4f11406e3a1'),\n",
       "  'game': 'mhs',\n",
       "  'player_id': 'wenyi4@mhs',\n",
       "  'timestamp': datetime.datetime(2025, 9, 27, 0, 2, 31, 247000),\n",
       "  'event_type': 'playerPositionEvent',\n",
       "  'event_data': '{\"playerPosition\":{\"x\":-17.585702896118165,\"y\":0.0202101469039917,\"z\":-74.59532165527344}}',\n",
       "  'device_info': {'platform': 'WebGLPlayer', 'browser': 'WebGL_Browser'}},\n",
       " {'_id': ObjectId('68d72d8e72ebf4f11406e490'),\n",
       "  'game': 'mhs',\n",
       "  'player_id': 'wenyi4@mhs',\n",
       "  'timestamp': datetime.datetime(2025, 9, 27, 0, 19, 26, 249000),\n",
       "  'event_type': 'playerPositionEvent',\n",
       "  'event_data': '{\"playerPosition\":{\"x\":955.084228515625,\"y\":153.86376953125,\"z\":1284.617431640625}}',\n",
       "  'device_info': {'platform': 'WebGLPlayer', 'browser': 'WebGL_Browser'}},\n",
       " {'_id': ObjectId('68d72dac72ebf4f11406e493'),\n",
       "  'game': 'mhs',\n",
       "  'player_id': 'wenyi4@mhs',\n",
       "  'timestamp': datetime.datetime(2025, 9, 27, 0, 19, 56, 251000),\n",
       "  'event_type': 'playerPositionEvent',\n",
       "  'event_data': '{\"playerPosition\":{\"x\":898.7240600585938,\"y\":153.84527587890626,\"z\":1242.2515869140625}}',\n",
       "  'device_info': {'platform': 'WebGLPlayer', 'browser': 'WebGL_Browser'}},\n",
       " {'_id': ObjectId('68d729f172ebf4f11406e3c7'),\n",
       "  'game': 'mhs',\n",
       "  'player_id': 'wenyi4@mhs',\n",
       "  'timestamp': datetime.datetime(2025, 9, 27, 0, 4, 1, 240000),\n",
       "  'event_type': 'playerPositionEvent',\n",
       "  'event_data': '{\"playerPosition\":{\"x\":-21.20953369140625,\"y\":0.02002020925283432,\"z\":-98.96757507324219}}',\n",
       "  'device_info': {'platform': 'WebGLPlayer', 'browser': 'WebGL_Browser'}},\n",
       " {'_id': ObjectId('68d72a0f72ebf4f11406e3c8'),\n",
       "  'game': 'mhs',\n",
       "  'player_id': 'wenyi4@mhs',\n",
       "  'timestamp': datetime.datetime(2025, 9, 27, 0, 4, 31, 238000),\n",
       "  'event_type': 'playerPositionEvent',\n",
       "  'event_data': '{\"playerPosition\":{\"x\":-21.20953369140625,\"y\":0.02002020925283432,\"z\":-98.96757507324219}}',\n",
       "  'device_info': {'platform': 'WebGLPlayer', 'browser': 'WebGL_Browser'}}]"
      ]
     },
     "execution_count": 23,
     "metadata": {},
     "output_type": "execute_result"
    }
   ],
   "source": [
    "list(positions)[:10]"
   ]
  },
  {
   "cell_type": "markdown",
   "id": "6b6e87a1-db3e-48fd-b06f-6ee47cf7cc16",
   "metadata": {},
   "source": [
    "## Ideal JSON format"
   ]
  },
  {
   "cell_type": "code",
   "execution_count": null,
   "id": "bb810abb-e54b-4c3b-85ee-da35ee36c986",
   "metadata": {},
   "outputs": [],
   "source": [
    "{\n",
    "  \"id\": \"68d7293c72ebf4f11406e379\",\n",
    "  \"game\": \"mhs\",\n",
    "  \"playerId\": \"wenyi4@mhs\",\n",
    "  \"timestamp\": \"2025-09-27T00:01:00.784Z\",\n",
    "  \"eventType\": \"PlayerPositionEvent\",\n",
    "  \"data\": {\n",
    "    \"position\": { \"x\": 18.891000074768066, \"y\": 5.0, \"z\": -57.98400115966797 }\n",
    "  },\n",
    "  \"device\": {\n",
    "    \"platform\": \"WebGLPlayer\",\n",
    "    \"browser\": \"WebGL_Browser\"\n",
    "  }\n",
    "}"
   ]
  },
  {
   "cell_type": "markdown",
   "id": "bf9da672-ab10-4aba-ab6e-0c2f5f771327",
   "metadata": {},
   "source": [
    "# Quest events"
   ]
  },
  {
   "cell_type": "code",
   "execution_count": 24,
   "id": "794098ce-3033-4074-9397-abbf7b20788f",
   "metadata": {},
   "outputs": [],
   "source": [
    "quests = coll.find(\n",
    "    {\"player_id\": \"wenyi4@mhs\", \"event_type\": \"questEvent\"}\n",
    ")"
   ]
  },
  {
   "cell_type": "code",
   "execution_count": 25,
   "id": "9067c336-d0cf-464a-91f7-304d2c5710a0",
   "metadata": {},
   "outputs": [
    {
     "data": {
      "text/plain": [
       "[{'_id': ObjectId('68d7294c72ebf4f11406e37a'),\n",
       "  'game': 'mhs',\n",
       "  'player_id': 'wenyi4@mhs',\n",
       "  'timestamp': datetime.datetime(2025, 9, 27, 0, 1, 16, 706000),\n",
       "  'event_type': 'questEvent',\n",
       "  'event_data': '{\"questEventType\":\"questActiveEvent\",\"questID\":\"28\",\"questName\":\"Getting Your Space Legs\"}',\n",
       "  'device_info': {'platform': 'WebGLPlayer', 'browser': 'WebGL_Browser'}},\n",
       " {'_id': ObjectId('68d729ba72ebf4f11406e3af'),\n",
       "  'game': 'mhs',\n",
       "  'player_id': 'wenyi4@mhs',\n",
       "  'timestamp': datetime.datetime(2025, 9, 27, 0, 3, 6, 551000),\n",
       "  'event_type': 'questEvent',\n",
       "  'event_data': '{\"questEventType\":\"questFinishEvent\",\"questID\":\"29\",\"questName\":\"Gear Up\",\"questSuccessOrFailure\":\"Succeeded\"}',\n",
       "  'device_info': {'platform': 'WebGLPlayer', 'browser': 'WebGL_Browser'}},\n",
       " {'_id': ObjectId('68d729ba72ebf4f11406e3b0'),\n",
       "  'game': 'mhs',\n",
       "  'player_id': 'wenyi4@mhs',\n",
       "  'timestamp': datetime.datetime(2025, 9, 27, 0, 3, 6, 613000),\n",
       "  'event_type': 'questEvent',\n",
       "  'event_data': '{\"questEventType\":\"questActiveEvent\",\"questID\":\"31\",\"questName\":\"TK, Reporting In!\"}',\n",
       "  'device_info': {'platform': 'WebGLPlayer', 'browser': 'WebGL_Browser'}},\n",
       " {'_id': ObjectId('68d7298872ebf4f11406e399'),\n",
       "  'game': 'mhs',\n",
       "  'player_id': 'wenyi4@mhs',\n",
       "  'timestamp': datetime.datetime(2025, 9, 27, 0, 2, 16, 308000),\n",
       "  'event_type': 'questEvent',\n",
       "  'event_data': '{\"questEventType\":\"questFinishEvent\",\"questID\":\"28\",\"questName\":\"Getting Your Space Legs\",\"questSuccessOrFailure\":\"Succeeded\"}',\n",
       "  'device_info': {'platform': 'WebGLPlayer', 'browser': 'WebGL_Browser'}},\n",
       " {'_id': ObjectId('68d7298972ebf4f11406e39c'),\n",
       "  'game': 'mhs',\n",
       "  'player_id': 'wenyi4@mhs',\n",
       "  'timestamp': datetime.datetime(2025, 9, 27, 0, 2, 17, 544000),\n",
       "  'event_type': 'questEvent',\n",
       "  'event_data': '{\"questEventType\":\"questActiveEvent\",\"questID\":\"29\",\"questName\":\"Gear Up\"}',\n",
       "  'device_info': {'platform': 'WebGLPlayer', 'browser': 'WebGL_Browser'}},\n",
       " {'_id': ObjectId('68d72a2972ebf4f11406e3ca'),\n",
       "  'game': 'mhs',\n",
       "  'player_id': 'wenyi4@mhs',\n",
       "  'timestamp': datetime.datetime(2025, 9, 27, 0, 4, 57, 69000),\n",
       "  'event_type': 'questEvent',\n",
       "  'event_data': '{\"questEventType\":\"questFinishEvent\",\"questID\":\"31\",\"questName\":\"TK, Reporting In!\",\"questSuccessOrFailure\":\"Succeeded\"}',\n",
       "  'device_info': {'platform': 'WebGLPlayer', 'browser': 'WebGL_Browser'}},\n",
       " {'_id': ObjectId('68d72a2972ebf4f11406e3cb'),\n",
       "  'game': 'mhs',\n",
       "  'player_id': 'wenyi4@mhs',\n",
       "  'timestamp': datetime.datetime(2025, 9, 27, 0, 4, 57, 141000),\n",
       "  'event_type': 'questEvent',\n",
       "  'event_data': '{\"questEventType\":\"questActiveEvent\",\"questID\":\"32\",\"questName\":\"Info and Intros\"}',\n",
       "  'device_info': {'platform': 'WebGLPlayer', 'browser': 'WebGL_Browser'}},\n",
       " {'_id': ObjectId('68d72b4772ebf4f11406e40d'),\n",
       "  'game': 'mhs',\n",
       "  'player_id': 'wenyi4@mhs',\n",
       "  'timestamp': datetime.datetime(2025, 9, 27, 0, 9, 43, 266000),\n",
       "  'event_type': 'questEvent',\n",
       "  'event_data': '{\"questEventType\":\"questFinishEvent\",\"questID\":\"32\",\"questName\":\"Info and Intros\",\"questSuccessOrFailure\":\"Succeeded\"}',\n",
       "  'device_info': {'browser': 'WebGL_Browser', 'platform': 'WebGLPlayer'}},\n",
       " {'_id': ObjectId('68d72b4772ebf4f11406e40e'),\n",
       "  'game': 'mhs',\n",
       "  'player_id': 'wenyi4@mhs',\n",
       "  'timestamp': datetime.datetime(2025, 9, 27, 0, 9, 43, 326000),\n",
       "  'event_type': 'questEvent',\n",
       "  'event_data': '{\"questEventType\":\"questActiveEvent\",\"questID\":\"33\",\"questName\":\"Defend the Expedition\"}',\n",
       "  'device_info': {'platform': 'WebGLPlayer', 'browser': 'WebGL_Browser'}},\n",
       " {'_id': ObjectId('68d72b8572ebf4f11406e43d'),\n",
       "  'game': 'mhs',\n",
       "  'player_id': 'wenyi4@mhs',\n",
       "  'timestamp': datetime.datetime(2025, 9, 27, 0, 10, 45, 775000),\n",
       "  'event_type': 'questEvent',\n",
       "  'event_data': '{\"questEventType\":\"questFinishEvent\",\"questID\":\"33\",\"questName\":\"Defend the Expedition\",\"questSuccessOrFailure\":\"Succeeded\"}',\n",
       "  'device_info': {'platform': 'WebGLPlayer', 'browser': 'WebGL_Browser'}}]"
      ]
     },
     "execution_count": 25,
     "metadata": {},
     "output_type": "execute_result"
    }
   ],
   "source": [
    "list(quests)[:10]"
   ]
  },
  {
   "cell_type": "markdown",
   "id": "eb2c1886-2b4c-41cc-8d5e-52ced2c8f7c6",
   "metadata": {},
   "source": [
    "## Ideal JSON format"
   ]
  },
  {
   "cell_type": "code",
   "execution_count": null,
   "id": "39fc22c1-e008-49c2-9301-6c9f9e6a6b5a",
   "metadata": {},
   "outputs": [],
   "source": [
    "{\n",
    "  \"id\": \"68d7294c72ebf4f11406e37a\",\n",
    " \"game\": \"mhs\",\n",
    "  \"playerId\": \"wenyi4@mhs\",\n",
    "  \"timestamp\": \"2025-09-27T00:01:16.706Z\",\n",
    "  \"eventType\": \"QuestEvent\",\n",
    "  \"eventKey\": \"quest:active:28\",\n",
    "  \"data\": {\n",
    "    \"questEventType\": \"questActiveEvent\",\n",
    "    \"questId\": 28,\n",
    "    \"questName\": \"Getting Your Space Legs\"\n",
    "  },\n",
    "  \"device\": {\n",
    "    \"platform\": \"WebGLPlayer\",\n",
    "    \"browser\": \"WebGL_Browser\"\n",
    "  }\n",
    "}"
   ]
  },
  {
   "cell_type": "code",
   "execution_count": null,
   "id": "31e252c5-2377-473f-8ac1-4f7d9f38cc13",
   "metadata": {},
   "outputs": [],
   "source": [
    "{\n",
    "  \"id\": \"68d7294c72ebf4f11406e37a\",\n",
    " \"game\": \"mhs\",\n",
    "  \"playerId\": \"wenyi4@mhs\",\n",
    "  \"timestamp\": \"2025-09-27T00:01:16.706Z\",\n",
    "  \"eventType\": \"QuestEvent\",\n",
    "  \"eventKey\": \"quest:finish:28\",\n",
    "  \"data\": {\n",
    "    \"questEventType\": \"questFinishEvent\",\n",
    "    \"questId\": 28,\n",
    "    \"questName\": \"Getting Your Space Legs\"\n",
    "  },\n",
    "  \"device\": {\n",
    "    \"platform\": \"WebGLPlayer\",\n",
    "    \"browser\": \"WebGL_Browser\"\n",
    "  }\n",
    "}"
   ]
  },
  {
   "cell_type": "code",
   "execution_count": null,
   "id": "a0f6bb3a-02f1-4041-a7be-cc15042bc73f",
   "metadata": {},
   "outputs": [],
   "source": []
  }
 ],
 "metadata": {
  "kernelspec": {
   "display_name": "Python 3 (ipykernel)",
   "language": "python",
   "name": "python3"
  },
  "language_info": {
   "codemirror_mode": {
    "name": "ipython",
    "version": 3
   },
   "file_extension": ".py",
   "mimetype": "text/x-python",
   "name": "python",
   "nbconvert_exporter": "python",
   "pygments_lexer": "ipython3",
   "version": "3.12.11"
  }
 },
 "nbformat": 4,
 "nbformat_minor": 5
}
