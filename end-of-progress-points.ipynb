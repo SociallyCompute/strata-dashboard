{
 "cells": [
  {
   "cell_type": "markdown",
   "id": "0371b064-3473-47d8-8209-574cf9955cb5",
   "metadata": {},
   "source": [
    "# Library"
   ]
  },
  {
   "cell_type": "code",
   "execution_count": 1,
   "id": "94c58cf3-3dff-422f-b6c5-a30bf4c10d31",
   "metadata": {},
   "outputs": [],
   "source": [
    "from dotenv import load_dotenv\n",
    "import os\n",
    "from pymongo import MongoClient\n",
    "from datetime import timedelta"
   ]
  },
  {
   "cell_type": "markdown",
   "id": "f83d51ff-0cd4-4756-b9cd-8b777a76fe56",
   "metadata": {},
   "source": [
    "# Connect to the server"
   ]
  },
  {
   "cell_type": "code",
   "execution_count": 2,
   "id": "8c52ed41-5052-42e9-8ff2-aced49a3d5a8",
   "metadata": {},
   "outputs": [
    {
     "name": "stdout",
     "output_type": "stream",
     "text": [
      "Connected OK!\n"
     ]
    }
   ],
   "source": [
    "load_dotenv()\n",
    "\n",
    "uri = os.getenv(\"MONGODB_URI\")\n",
    "client = MongoClient(uri)\n",
    "client.admin.command(\"ping\")\n",
    "print(\"Connected OK!\")"
   ]
  },
  {
   "cell_type": "code",
   "execution_count": 3,
   "id": "f0da7079-2879-4941-b8f8-b6553fc51f21",
   "metadata": {},
   "outputs": [],
   "source": [
    "db = client[os.getenv(\"DB_NAME\")]\n",
    "coll = db[os.getenv(\"COLL_NAME\")]"
   ]
  },
  {
   "cell_type": "markdown",
   "id": "4c1794c5-4579-419b-bc96-6ac8ce5aac84",
   "metadata": {},
   "source": [
    "# U1.C1\n",
    "During this game progress, followed by the instruction of DANI, players set up their virtual look, investigated their lock-up, and also followed the waypoint to talk to Dr. Toppo. Completing the progress after Dr. Toppo let the players talk to other team members. White color means they didn't complete this progress point; Green means they completed this progress."
   ]
  },
  {
   "cell_type": "markdown",
   "id": "73c17255-6c23-4396-9636-4acf86410e24",
   "metadata": {},
   "source": [
    "## Current Json format"
   ]
  },
  {
   "cell_type": "code",
   "execution_count": 39,
   "id": "ef7fc52c-7f4f-478d-ba77-1a74a06284dd",
   "metadata": {},
   "outputs": [],
   "source": [
    "u1c1eop = coll.find(\n",
    "    {\"player_id\": \"wenyi4@mhs\", \"event_type\": \"DialogueEvent\",\n",
    "        \"$and\": [\n",
    "            {\"event_data\": {\"$regex\": r'\"dialogueEventType\"\\s*:\\s*\"DialogueNodeEvent\"'}},\n",
    "            {\"event_data\": {\"$regex\": r'\"conversationId\"\\s*:\\s*\"31\"'}},\n",
    "            {\"event_data\": {\"$regex\": r'\"nodeId\"\\s*:\\s*\"29\"'}}\n",
    "        ]}\n",
    ")"
   ]
  },
  {
   "cell_type": "code",
   "execution_count": 40,
   "id": "393fc3c2-7b99-4de0-b99e-8f938ec8656c",
   "metadata": {},
   "outputs": [
    {
     "data": {
      "text/plain": [
       "{'_id': ObjectId('68d72a2872ebf4f11406e3c9'),\n",
       " 'game': 'mhs',\n",
       " 'player_id': 'wenyi4@mhs',\n",
       " 'timestamp': datetime.datetime(2025, 9, 27, 0, 4, 56, 597000),\n",
       " 'event_type': 'DialogueEvent',\n",
       " 'event_data': '{\"dialogueEventType\":\"DialogueNodeEvent\",\"conversationId\":\"31\",\"nodeId\":\"29\"}',\n",
       " 'device_info': {'platform': 'WebGLPlayer', 'browser': 'WebGL_Browser'}}"
      ]
     },
     "execution_count": 40,
     "metadata": {},
     "output_type": "execute_result"
    }
   ],
   "source": [
    "list(u1c1eop)[0]"
   ]
  },
  {
   "cell_type": "markdown",
   "id": "a3ebc446-e8a9-47d0-9671-4166fcdb471b",
   "metadata": {},
   "source": [
    "## Ideal Json format"
   ]
  },
  {
   "cell_type": "code",
   "execution_count": null,
   "id": "31402dcf-fd40-45b1-ba8b-4e6cc5fab4cf",
   "metadata": {},
   "outputs": [],
   "source": [
    "{\n",
    "  \"id\": \"68d72a2872ebf4f11406e3c9\",\n",
    "  \"game\": \"mhs\",\n",
    "  \"playerId\": \"wenyi4@mhs\",\n",
    "  \"timestamp\": \"2025-09-27T00:04:56.537Z\",\n",
    "  \"eventType\": \"DialogueEvent\",\n",
    "  \"eventKey\": \"dialogue:30:98\", \n",
    "  \"data\": {\n",
    "    \"dialogueEventType\": \"DialogueNodeEvent\",\n",
    "    \"conversationId\": 31,\n",
    "    \"nodeId\": 29\n",
    "  },\n",
    "  \"device\": {\n",
    "    \"platform\": \"WebGLPlayer\",\n",
    "    \"browser\": \"WebGL_Browser\"\n",
    "  }\n",
    "}"
   ]
  },
  {
   "cell_type": "markdown",
   "id": "35e3cd79-0fd7-458d-b2e9-9b9fbd1a8564",
   "metadata": {},
   "source": [
    "## Ideal query\n",
    "### With eventKey"
   ]
  },
  {
   "cell_type": "code",
   "execution_count": null,
   "id": "8c43b5ae-e437-4440-be6a-f9259fb55c3a",
   "metadata": {},
   "outputs": [],
   "source": [
    "players = coll.distinct(\n",
    "        \"playerId\",\n",
    "        {\"game\": \"mhs\", \"eventKey\": \"dialogue:31:29\"})"
   ]
  },
  {
   "cell_type": "markdown",
   "id": "6e916d3c-d60d-42ba-a8ef-ef4fe9c208d2",
   "metadata": {},
   "source": [
    "### Without eventKey"
   ]
  },
  {
   "cell_type": "code",
   "execution_count": null,
   "id": "1213cb2d-54c7-4115-b8cc-5dd247a94f09",
   "metadata": {},
   "outputs": [],
   "source": [
    "players = coll.distinct(\n",
    "    \"playerId\",\n",
    "    {\n",
    "        \"game\": \"mhs\",\n",
    "        \"eventType\": \"DialogueEvent\",\n",
    "        \"data.dialogueEventType\": \"DialogueNodeEvent\",\n",
    "        \"data.conversationId\": 31,\n",
    "        \"data.nodeId\": 29\n",
    "    }\n",
    ")"
   ]
  },
  {
   "cell_type": "code",
   "execution_count": null,
   "id": "31834de6-0833-4173-88b9-d064388bd305",
   "metadata": {},
   "outputs": [],
   "source": [
    "all_players = set(coll.distinct(\"playerId\", {\"game\": \"mhs\"}))\n",
    "completed  = set(players)\n",
    "white = sorted(all_players - completed)"
   ]
  },
  {
   "cell_type": "markdown",
   "id": "81e73886-674d-4673-a3fd-9e6f94faa653",
   "metadata": {},
   "source": [
    "# U1.C2\n",
    "During this progress point, players start by following the waypoints to talk to each team member, collecting information about scientific argumentation, getting to know each team member, and end with going back to Dr. Toppo. White represents not completing this progress; Green means completing this progress point. "
   ]
  },
  {
   "cell_type": "markdown",
   "id": "b313e7c9-c9ca-4a7c-af4a-1eaf421d380e",
   "metadata": {},
   "source": [
    "## Current Json format"
   ]
  },
  {
   "cell_type": "code",
   "execution_count": 15,
   "id": "a06d5b04-471e-41a2-867e-0a67c191b938",
   "metadata": {},
   "outputs": [],
   "source": [
    "u1c2eop = coll.find(\n",
    "    {\"player_id\": \"wenyi4@mhs\", \"event_type\": \"DialogueEvent\",\n",
    "        \"$and\": [\n",
    "            {\"event_data\": {\"$regex\": r'\"dialogueEventType\"\\s*:\\s*\"DialogueNodeEvent\"'}},\n",
    "            {\"event_data\": {\"$regex\": r'\"conversationId\"\\s*:\\s*\"30\"'}},\n",
    "            {\"event_data\": {\"$regex\": r'\"nodeId\"\\s*:\\s*\"98\"'}}\n",
    "        ]}\n",
    ")"
   ]
  },
  {
   "cell_type": "code",
   "execution_count": 16,
   "id": "7cc6badf-d5a1-4240-8df3-7e55b2c89db0",
   "metadata": {},
   "outputs": [
    {
     "data": {
      "text/plain": [
       "[{'_id': ObjectId('68d72b3872ebf4f11406e408'),\n",
       "  'game': 'mhs',\n",
       "  'player_id': 'wenyi4@mhs',\n",
       "  'timestamp': datetime.datetime(2025, 9, 27, 0, 9, 28, 630000),\n",
       "  'event_type': 'DialogueEvent',\n",
       "  'event_data': '{\"dialogueEventType\":\"DialogueNodeEvent\",\"conversationId\":\"30\",\"nodeId\":\"98\"}',\n",
       "  'device_info': {'platform': 'WebGLPlayer', 'browser': 'WebGL_Browser'}}]"
      ]
     },
     "execution_count": 16,
     "metadata": {},
     "output_type": "execute_result"
    }
   ],
   "source": [
    "list(u1c2eop)"
   ]
  },
  {
   "cell_type": "markdown",
   "id": "9c720d72-6768-462b-aa21-3a30d6df7669",
   "metadata": {},
   "source": [
    "## Ideal Json format"
   ]
  },
  {
   "cell_type": "code",
   "execution_count": null,
   "id": "fdaf770a-99dd-4206-8549-3a8fd3cbc8a0",
   "metadata": {},
   "outputs": [],
   "source": [
    "{\n",
    "  \"id\": \"68d72b3872ebf4f11406e408\",\n",
    "  \"game\": \"mhs\",\n",
    "  \"playerId\": \"wenyi4@mhs\",\n",
    "  \"timestamp\": \"2025-09-27T00:09:28.630Z\",\n",
    "  \"eventType\": \"DialogueEvent\",\n",
    "  \"eventKey\": \"dialogue:30:98\", \n",
    "  \"data\": {\n",
    "    \"dialogueEventType\": \"DialogueNodeEvent\",\n",
    "    \"conversationId\": 30,\n",
    "    \"nodeId\": 98\n",
    "  },\n",
    "  \"device\": {\n",
    "    \"platform\": \"WebGLPlayer\",\n",
    "    \"browser\": \"WebGL_Browser\"\n",
    "  }\n",
    "}"
   ]
  },
  {
   "cell_type": "markdown",
   "id": "d7227ec5-e228-48da-99d9-3d6190bd4ff9",
   "metadata": {},
   "source": [
    "## Ideal query\n",
    "### With eventKey"
   ]
  },
  {
   "cell_type": "code",
   "execution_count": null,
   "id": "39b740a4-2fe7-400c-8478-5b21829b0602",
   "metadata": {},
   "outputs": [],
   "source": [
    "players = coll.distinct(\n",
    "        \"playerId\",\n",
    "        {\"game\": \"mhs\", \"eventKey\": \"dialogue:30:98\"})"
   ]
  },
  {
   "cell_type": "markdown",
   "id": "e66e35d6-82bb-456b-8bad-f1e41f284198",
   "metadata": {},
   "source": [
    "### Without eventKey"
   ]
  },
  {
   "cell_type": "code",
   "execution_count": null,
   "id": "6641825c-71ab-421f-aff6-2fc5a27b9205",
   "metadata": {},
   "outputs": [],
   "source": [
    "players = coll.distinct(\n",
    "    \"playerId\",\n",
    "    {\n",
    "        \"game\": \"mhs\",\n",
    "        \"eventType\": \"DialogueEvent\",\n",
    "        \"data.dialogueEventType\": \"DialogueNodeEvent\",\n",
    "        \"data.conversationId\": 30,\n",
    "        \"data.nodeId\": 98\n",
    "    }\n",
    ")"
   ]
  },
  {
   "cell_type": "code",
   "execution_count": null,
   "id": "87d45ccf-6df5-4b48-a46f-f51a18966cfe",
   "metadata": {},
   "outputs": [],
   "source": [
    "all_players = set(coll.distinct(\"playerId\", {\"game\": \"mhs\"}))\n",
    "completed  = set(players)\n",
    "white = sorted(all_players - completed)"
   ]
  },
  {
   "cell_type": "markdown",
   "id": "efbc2e93-59f4-4b10-b1a2-afe68e928872",
   "metadata": {},
   "source": [
    "# U1.C3\n",
    "During this progress point, players talked with Dr. Toppo and watched her argumentation tutorials and completed two sections of the argumentation. White means not completing this progress; Green means submitting the correct argument at the first attempt; Yellow means submitting the correct argument using more than one attempt."
   ]
  },
  {
   "cell_type": "markdown",
   "id": "f32afa10-86d2-430b-8592-7e48f244322c",
   "metadata": {},
   "source": [
    "## Current Json format"
   ]
  },
  {
   "cell_type": "code",
   "execution_count": 19,
   "id": "2b9d62ca-083f-4fb0-a8ab-9d310f58c92e",
   "metadata": {},
   "outputs": [],
   "source": [
    "u1c3eop = coll.find(\n",
    "    {\"player_id\": \"wenyi4@mhs\", \"event_type\": \"questEvent\",\n",
    "        \"$and\": [\n",
    "            {\"event_data\": {\"$regex\": r'\"questEventType\"\\s*:\\s*\"questActiveEvent\"'}},\n",
    "            {\"event_data\": {\"$regex\": r'\"questID\"\\s*:\\s*\"34\"'}}\n",
    "        ]}\n",
    ")"
   ]
  },
  {
   "cell_type": "code",
   "execution_count": 20,
   "id": "1943971b-9eb0-4b07-8465-13795cfc8852",
   "metadata": {},
   "outputs": [
    {
     "data": {
      "text/plain": [
       "[{'_id': ObjectId('68d72b8572ebf4f11406e43e'),\n",
       "  'game': 'mhs',\n",
       "  'player_id': 'wenyi4@mhs',\n",
       "  'timestamp': datetime.datetime(2025, 9, 27, 0, 10, 45, 840000),\n",
       "  'event_type': 'questEvent',\n",
       "  'event_data': '{\"questEventType\":\"questActiveEvent\",\"questID\":\"34\",\"questName\":\"What Was That?\"}',\n",
       "  'device_info': {'platform': 'WebGLPlayer', 'browser': 'WebGL_Browser'}}]"
      ]
     },
     "execution_count": 20,
     "metadata": {},
     "output_type": "execute_result"
    }
   ],
   "source": [
    "list(u1c3eop)"
   ]
  },
  {
   "cell_type": "markdown",
   "id": "b6ca82ad-241c-4f01-9b30-ada62b32579d",
   "metadata": {},
   "source": [
    "## Ideal Json format"
   ]
  },
  {
   "cell_type": "code",
   "execution_count": null,
   "id": "2213e84f-5244-403b-b387-9f8845185ce8",
   "metadata": {},
   "outputs": [],
   "source": [
    "{\n",
    "  \"id\": \"68d72b8572ebf4f11406e43e\",\n",
    "  \"game\": \"mhs\",\n",
    "  \"playerId\": \"wenyi4@mhs\",\n",
    "  \"timestamp\": \"2025-09-27T00:10:45.840Z\",\n",
    "  \"eventType\": \"questEvent\",\n",
    "  \"eventKey\": \"questActive:34\", \n",
    "  \"data\": {\n",
    "    \"questEventType\": \"questActiveEvent\",\n",
    "    \"questID\": 34,\n",
    "    \"questName\": \"What Was That?\"\n",
    "  },\n",
    "  \"device\": {\n",
    "    \"platform\": \"WebGLPlayer\",\n",
    "    \"browser\": \"WebGL_Browser\"\n",
    "  }\n",
    "}"
   ]
  },
  {
   "cell_type": "markdown",
   "id": "7bcf27e5-27e4-4d91-8282-9844b70def99",
   "metadata": {},
   "source": [
    "## Ideal query\n",
    "### With eventKey"
   ]
  },
  {
   "cell_type": "code",
   "execution_count": null,
   "id": "efe88b38-7fef-40fb-9ce9-42576a2ea81b",
   "metadata": {},
   "outputs": [],
   "source": [
    "players = coll.distinct(\n",
    "        \"playerId\",\n",
    "        {\"game\": \"mhs\", \"eventKey\": \"questActive:34\"})"
   ]
  },
  {
   "cell_type": "markdown",
   "id": "3a0cfcdd-aad5-4b73-a8ba-ca34f5308014",
   "metadata": {},
   "source": [
    "### Without eventKey"
   ]
  },
  {
   "cell_type": "code",
   "execution_count": null,
   "id": "2b1cd687-4a9a-4069-a8ab-163a74f297c7",
   "metadata": {},
   "outputs": [],
   "source": [
    "players = coll.distinct(\n",
    "    \"playerId\",\n",
    "    {\n",
    "        \"game\": \"mhs\",\n",
    "        \"eventType\": \"questEvent\",\n",
    "        \"data.questEventType\": \"questActiveEvent\",\n",
    "        \"data.questID\": 34\n",
    "    }\n",
    ")"
   ]
  },
  {
   "cell_type": "code",
   "execution_count": null,
   "id": "c4b0f496-bdbd-406e-876c-98de834e4a42",
   "metadata": {},
   "outputs": [],
   "source": [
    "all_players = set(coll.distinct(\"playerId\", {\"game\": \"mhs\"}))\n",
    "completed  = set(players)\n",
    "white = sorted(all_players - completed)"
   ]
  },
  {
   "cell_type": "markdown",
   "id": "73ae41bf-2b44-4720-857a-86fa0127b715",
   "metadata": {},
   "source": [
    "# U1.C4\n",
    "During this progress point, players completed the conversation with Dr. Toppo, encountered a crash of the spaceship, and then escaped the ship along with other team members using the escape pod. White means not completing the progress, while green means completing the progress."
   ]
  },
  {
   "cell_type": "markdown",
   "id": "c87b6fff-6182-459b-84f0-15d614533288",
   "metadata": {},
   "source": [
    "## Current Json format"
   ]
  },
  {
   "cell_type": "code",
   "execution_count": 21,
   "id": "6e759bb3-158e-4a99-aff3-e69a6c6686de",
   "metadata": {},
   "outputs": [],
   "source": [
    "u1c4eop = coll.find(\n",
    "    {\"player_id\": \"wenyi4@mhs\", \"event_type\": \"questEvent\",\n",
    "        \"$and\": [\n",
    "            {\"event_data\": {\"$regex\": r'\"questEventType\"\\s*:\\s*\"questFinishEvent\"'}},\n",
    "            {\"event_data\": {\"$regex\": r'\"questID\"\\s*:\\s*\"34\"'}}\n",
    "        ]}\n",
    ")"
   ]
  },
  {
   "cell_type": "code",
   "execution_count": 22,
   "id": "c2f61f30-9d6a-46e3-9230-206fde8ca6d4",
   "metadata": {},
   "outputs": [
    {
     "data": {
      "text/plain": [
       "[{'_id': ObjectId('68d72bf772ebf4f11406e459'),\n",
       "  'game': 'mhs',\n",
       "  'player_id': 'wenyi4@mhs',\n",
       "  'timestamp': datetime.datetime(2025, 9, 27, 0, 12, 39, 625000),\n",
       "  'event_type': 'questEvent',\n",
       "  'event_data': '{\"questEventType\":\"questFinishEvent\",\"questID\":\"34\",\"questName\":\"What Was That?\",\"questSuccessOrFailure\":\"Succeeded\"}',\n",
       "  'device_info': {'platform': 'WebGLPlayer', 'browser': 'WebGL_Browser'}}]"
      ]
     },
     "execution_count": 22,
     "metadata": {},
     "output_type": "execute_result"
    }
   ],
   "source": [
    "list(u1c4eop)"
   ]
  },
  {
   "cell_type": "markdown",
   "id": "186eb543-3324-4a9e-ba0d-ab415824e71b",
   "metadata": {},
   "source": [
    "## Ideal Json format"
   ]
  },
  {
   "cell_type": "code",
   "execution_count": null,
   "id": "4d95dc6a-0c7c-4c03-9d1b-3f9beb5257ff",
   "metadata": {},
   "outputs": [],
   "source": [
    "{\n",
    "  \"id\": \"68d72bf772ebf4f11406e459\",\n",
    "  \"game\": \"mhs\",\n",
    "  \"playerId\": \"wenyi4@mhs\",\n",
    "  \"timestamp\": \"2025-09-27T00:12:39.625Z\",\n",
    "  \"eventType\": \"questEvent\",\n",
    "  \"eventKey\": \"questFinish:34\", \n",
    "  \"data\": {\n",
    "    \"questEventType\": \"questFinishEvent\",\n",
    "    \"questID\": 34,\n",
    "    \"questName\": \"What Was That?\",\n",
    "    \"questSuccessOrFailure\": \"Succeeded\"  \n",
    "  },\n",
    "  \"device\": {\n",
    "    \"platform\": \"WebGLPlayer\",\n",
    "    \"browser\": \"WebGL_Browser\"\n",
    "  }\n",
    "}"
   ]
  },
  {
   "cell_type": "markdown",
   "id": "d41968ee-7f4f-48c7-bcfd-5dfbd562ccc6",
   "metadata": {},
   "source": [
    "## Ideal query\n",
    "### With eventKey"
   ]
  },
  {
   "cell_type": "code",
   "execution_count": null,
   "id": "a19b7720-8b9b-4d62-815c-26c2d39758c0",
   "metadata": {},
   "outputs": [],
   "source": [
    "players = coll.distinct(\n",
    "        \"playerId\",\n",
    "        {\"game\": \"mhs\", \"eventKey\": \"questFinish:34\"})"
   ]
  },
  {
   "cell_type": "markdown",
   "id": "295506d5-b875-4d22-8a3c-4670b8a64622",
   "metadata": {},
   "source": [
    "### Without eventKey"
   ]
  },
  {
   "cell_type": "code",
   "execution_count": null,
   "id": "4a466489-6b77-436b-a6a7-6014d27d38fd",
   "metadata": {},
   "outputs": [],
   "source": [
    "players = coll.distinct(\n",
    "    \"playerId\",\n",
    "    {\n",
    "        \"game\": \"mhs\",\n",
    "        \"eventType\": \"questEvent\",\n",
    "        \"data.questEventType\": \"questFinishEvent\",\n",
    "        \"data.questID\": 34\n",
    "    }\n",
    ")"
   ]
  },
  {
   "cell_type": "code",
   "execution_count": null,
   "id": "9721deaf-7555-42a2-9edc-82ca807388f8",
   "metadata": {},
   "outputs": [],
   "source": [
    "all_players = set(coll.distinct(\"playerId\", {\"game\": \"mhs\"}))\n",
    "completed  = set(players)\n",
    "white = sorted(all_players - completed)"
   ]
  },
  {
   "cell_type": "markdown",
   "id": "842b75b1-971d-4620-802b-ce8d96ca0738",
   "metadata": {},
   "source": [
    "# U2.C1\n",
    "During this progress point, players need to match topographic glyphs based on the 2D shape of the topographic geography from the top view. The color is white if the player doesn't complete the progress; The color is yellow if they triggered the dialogue feedbacks, representing they have more than 4 attempts to make it right or seeking help from DANI. The color is green if they match the glyphs within 4 attempts without help from DANI. After this task, players will have a better idea of the knowledge of topographic knowledge. At the end, players will find a way to exit the temple.     "
   ]
  },
  {
   "cell_type": "markdown",
   "id": "b6f0fa6e-d789-4f99-9f47-3ab0484437c8",
   "metadata": {},
   "source": [
    "## Current Json format"
   ]
  },
  {
   "cell_type": "code",
   "execution_count": 23,
   "id": "0a02834b-89f3-455a-bcc3-a7d4043b1ccd",
   "metadata": {},
   "outputs": [],
   "source": [
    "u2c1eop = coll.find(\n",
    "    {\"player_id\": \"wenyi4@mhs\", \"event_type\": \"questEvent\",\n",
    "        \"$and\": [\n",
    "            {\"event_data\": {\"$regex\": r'\"questEventType\"\\s*:\\s*\"questFinishEvent\"'}},\n",
    "            {\"event_data\": {\"$regex\": r'\"questID\"\\s*:\\s*\"21\"'}}\n",
    "        ]}\n",
    ")"
   ]
  },
  {
   "cell_type": "code",
   "execution_count": 24,
   "id": "04344675-6c90-4dae-a162-d88fdfd9534a",
   "metadata": {},
   "outputs": [
    {
     "data": {
      "text/plain": [
       "[{'_id': ObjectId('68d72dc772ebf4f11406e49a'),\n",
       "  'game': 'mhs',\n",
       "  'player_id': 'wenyi4@mhs',\n",
       "  'timestamp': datetime.datetime(2025, 9, 27, 0, 20, 23, 530000),\n",
       "  'event_type': 'questEvent',\n",
       "  'event_data': '{\"questEventType\":\"questFinishEvent\",\"questID\":\"21\",\"questName\":\"Escape the Ruin\",\"questSuccessOrFailure\":\"Succeeded\"}',\n",
       "  'device_info': {'platform': 'WebGLPlayer', 'browser': 'WebGL_Browser'}}]"
      ]
     },
     "execution_count": 24,
     "metadata": {},
     "output_type": "execute_result"
    }
   ],
   "source": [
    "list(u2c1eop)"
   ]
  },
  {
   "cell_type": "markdown",
   "id": "ea47da4f-1e9c-4c8e-8749-39fac794e00e",
   "metadata": {},
   "source": [
    "## Ideal Json format"
   ]
  },
  {
   "cell_type": "code",
   "execution_count": null,
   "id": "ae20a4ff-d7bd-4c0d-8f1e-a73d343a6a5c",
   "metadata": {},
   "outputs": [],
   "source": [
    "{\n",
    "  \"id\": \"68d72dc772ebf4f11406e49a\",\n",
    "  \"game\": \"mhs\",\n",
    "  \"playerId\": \"wenyi4@mhs\",\n",
    "  \"timestamp\": \"2025-09-27T00:20:23.530Z\",\n",
    "  \"eventType\": \"questEvent\",\n",
    "  \"eventKey\": \"questFinish:21\", \n",
    "  \"data\": {\n",
    "    \"questEventType\": \"questFinishEvent\",\n",
    "    \"questID\": 21,\n",
    "    \"questName\": \"Escape the Ruin\",\n",
    "    \"questSuccessOrFailure\": \"Succeeded\"  \n",
    "  },\n",
    "  \"device\": {\n",
    "    \"platform\": \"WebGLPlayer\",\n",
    "    \"browser\": \"WebGL_Browser\"\n",
    "  }\n",
    "}"
   ]
  },
  {
   "cell_type": "markdown",
   "id": "9024632d-0cc7-4932-b69b-e409d8091008",
   "metadata": {},
   "source": [
    "## Ideal query\n",
    "### With eventKey"
   ]
  },
  {
   "cell_type": "code",
   "execution_count": null,
   "id": "b0bc10ef-5ab7-47ea-ba84-0062ab0f9980",
   "metadata": {},
   "outputs": [],
   "source": [
    "players = coll.distinct(\n",
    "        \"playerId\",\n",
    "        {\"game\": \"mhs\", \"eventKey\": \"questFinish:21\"})"
   ]
  },
  {
   "cell_type": "markdown",
   "id": "61dfd04a-56bb-4f4e-abec-cc91944162d7",
   "metadata": {},
   "source": [
    "### Without eventKey"
   ]
  },
  {
   "cell_type": "code",
   "execution_count": null,
   "id": "a5f5a747-8e97-4a2d-acf0-7db81ece395a",
   "metadata": {},
   "outputs": [],
   "source": [
    "players = coll.distinct(\n",
    "    \"playerId\",\n",
    "    {\n",
    "        \"game\": \"mhs\",\n",
    "        \"eventType\": \"questEvent\",\n",
    "        \"data.questEventType\": \"questFinishEvent\",\n",
    "        \"data.questID\": 21\n",
    "    }\n",
    ")"
   ]
  },
  {
   "cell_type": "code",
   "execution_count": null,
   "id": "1704757d-7b1e-4a9d-8a32-da5847698973",
   "metadata": {},
   "outputs": [],
   "source": [
    "all_players = set(coll.distinct(\"playerId\", {\"game\": \"mhs\"}))\n",
    "completed  = set(players)\n",
    "white = sorted(all_players - completed)"
   ]
  },
  {
   "cell_type": "markdown",
   "id": "f7f78347-74dd-4e43-b240-68ef0dd52081",
   "metadata": {},
   "source": [
    "# U2.C2\n",
    "During this progress point, players will meet Anderson and help her fix the hoverboard. After successfully fixing it, players can navigate with the hoverboard. Then, players need to place a waypoint on the topographic map based on the location description of Dr. Toppo. Following the placed waypoint, players need to find where Dr. Toppo is. White if the player didn't complete the progress, yellow if the timeduration of finding Dr. Toppo is larger than 5 minutes, otherwise it's green."
   ]
  },
  {
   "cell_type": "markdown",
   "id": "e630858c-d895-4369-bc06-681f0d1fdf30",
   "metadata": {},
   "source": [
    "## Current Json format"
   ]
  },
  {
   "cell_type": "code",
   "execution_count": 25,
   "id": "5bc9c658-b8ac-4d0a-a66f-5b75cb7c49ad",
   "metadata": {},
   "outputs": [],
   "source": [
    "u2c2eop = coll.find(\n",
    "    {\"player_id\": \"wenyi4@mhs\", \"event_type\": \"DialogueEvent\",\n",
    "        \"$and\": [\n",
    "            {\"event_data\": {\"$regex\": r'\"dialogueEventType\"\\s*:\\s*\"DialogueNodeEvent\"'}},\n",
    "            {\"event_data\": {\"$regex\": r'\"conversationId\"\\s*:\\s*\"20\"'}},\n",
    "            {\"event_data\": {\"$regex\": r'\"nodeId\"\\s*:\\s*\"26\"'}}\n",
    "        ]}\n",
    ")"
   ]
  },
  {
   "cell_type": "code",
   "execution_count": 26,
   "id": "4f8a6f3c-3167-4ff4-8e5f-58c9854075bb",
   "metadata": {},
   "outputs": [
    {
     "data": {
      "text/plain": [
       "[{'_id': ObjectId('68d72f0972ebf4f11406e4ee'),\n",
       "  'game': 'mhs',\n",
       "  'player_id': 'wenyi4@mhs',\n",
       "  'timestamp': datetime.datetime(2025, 9, 27, 0, 25, 45, 162000),\n",
       "  'event_type': 'DialogueEvent',\n",
       "  'event_data': '{\"dialogueEventType\":\"DialogueNodeEvent\",\"conversationId\":\"20\",\"nodeId\":\"26\"}',\n",
       "  'device_info': {'browser': 'WebGL_Browser', 'platform': 'WebGLPlayer'}}]"
      ]
     },
     "execution_count": 26,
     "metadata": {},
     "output_type": "execute_result"
    }
   ],
   "source": [
    "list(u2c2eop)"
   ]
  },
  {
   "cell_type": "markdown",
   "id": "6ea0841f-b636-41f3-b0dc-651b550bff78",
   "metadata": {},
   "source": [
    "## Ideal Json format"
   ]
  },
  {
   "cell_type": "code",
   "execution_count": null,
   "id": "3146ccb8-4744-405d-a6c9-538e8635ca15",
   "metadata": {},
   "outputs": [],
   "source": [
    "{\n",
    "  \"id\": \"68d72f0972ebf4f11406e4ee\",\n",
    "  \"game\": \"mhs\",\n",
    "  \"playerId\": \"wenyi4@mhs\",\n",
    "  \"timestamp\": \"2025-09-27T00:25:45.162Z\",\n",
    "  \"eventType\": \"DialogueEvent\",\n",
    "  \"eventKey\": \"dialogue:20:26\", \n",
    "  \"data\": {\n",
    "    \"dialogueEventType\": \"DialogueNodeEvent\",\n",
    "    \"conversationId\": 20,\n",
    "    \"nodeId\": 26 \n",
    "  },\n",
    "  \"device\": {\n",
    "    \"platform\": \"WebGLPlayer\",\n",
    "    \"browser\": \"WebGL_Browser\"\n",
    "  }\n",
    "}"
   ]
  },
  {
   "cell_type": "markdown",
   "id": "4a12006e-1b0e-4704-b0ff-7b3026e39841",
   "metadata": {},
   "source": [
    "## Ideal query\n",
    "### With eventKey"
   ]
  },
  {
   "cell_type": "code",
   "execution_count": null,
   "id": "90302870-b649-4e06-9f85-891206db91cf",
   "metadata": {},
   "outputs": [],
   "source": [
    "players = coll.distinct(\n",
    "        \"playerId\",\n",
    "        {\"game\": \"mhs\", \"eventKey\": \"dialogue:20:26\"})"
   ]
  },
  {
   "cell_type": "markdown",
   "id": "5f44ca1c-866b-4e11-83f4-59fe223fec1a",
   "metadata": {},
   "source": [
    "### Without eventKey"
   ]
  },
  {
   "cell_type": "code",
   "execution_count": null,
   "id": "eeab8170-2505-4e44-b9c7-2bc08d1f2eae",
   "metadata": {},
   "outputs": [],
   "source": [
    "players = coll.distinct(\n",
    "    \"playerId\",\n",
    "    {\n",
    "        \"game\": \"mhs\",\n",
    "        \"eventType\": \"DialogueEvent\",\n",
    "        \"data.dialogueEventType\": \"DialogueNodeEvent\",\n",
    "        \"data.conversationId\": 20,\n",
    "        \"data.nodeId\": 26\n",
    "    }\n",
    ")"
   ]
  },
  {
   "cell_type": "code",
   "execution_count": null,
   "id": "ac2a9c0a-3ea0-418f-ac00-5dc21e4af8e6",
   "metadata": {},
   "outputs": [],
   "source": [
    "all_players = set(coll.distinct(\"playerId\", {\"game\": \"mhs\"}))\n",
    "completed  = set(players)\n",
    "white = sorted(all_players - completed)"
   ]
  },
  {
   "cell_type": "markdown",
   "id": "6c1eb451-a30a-45d3-aa78-74fd13c6d3e7",
   "metadata": {},
   "source": [
    "# U2.C3\n",
    "Similar to the last progress point, players need to place the waypoints on the topographic map and find the other two team members based on the descriptions. If the player finds both team members using timedurations less than 5 minutes, then the color is green; otherwise, it's yellow.  "
   ]
  },
  {
   "cell_type": "markdown",
   "id": "981086ca-9b83-4bc4-92cc-68b0200b21d0",
   "metadata": {},
   "source": [
    "## Current Json format"
   ]
  },
  {
   "cell_type": "code",
   "execution_count": 27,
   "id": "71be84a9-3c6c-4bc2-a45d-bfcc303bc1e5",
   "metadata": {},
   "outputs": [],
   "source": [
    "u2c3eop = coll.find(\n",
    "    {\"player_id\": \"wenyi4@mhs\", \"event_type\": \"DialogueEvent\",\n",
    "        \"$and\": [\n",
    "            {\"event_data\": {\"$regex\": r'\"dialogueEventType\"\\s*:\\s*\"DialogueNodeEvent\"'}},\n",
    "            {\"event_data\": {\"$regex\": r'\"conversationId\"\\s*:\\s*\"22\"'}},\n",
    "            {\"event_data\": {\"$regex\": r'\"nodeId\"\\s*:\\s*\"18\"'}}\n",
    "        ]}\n",
    ")"
   ]
  },
  {
   "cell_type": "code",
   "execution_count": 28,
   "id": "e8699426-838d-42b2-9698-ceff191aa887",
   "metadata": {},
   "outputs": [
    {
     "data": {
      "text/plain": [
       "[{'_id': ObjectId('68d7308972ebf4f11406e52d'),\n",
       "  'game': 'mhs',\n",
       "  'player_id': 'wenyi4@mhs',\n",
       "  'timestamp': datetime.datetime(2025, 9, 27, 0, 32, 9, 586000),\n",
       "  'event_type': 'DialogueEvent',\n",
       "  'event_data': '{\"dialogueEventType\":\"DialogueNodeEvent\",\"conversationId\":\"22\",\"nodeId\":\"18\"}',\n",
       "  'device_info': {'platform': 'WebGLPlayer', 'browser': 'WebGL_Browser'}}]"
      ]
     },
     "execution_count": 28,
     "metadata": {},
     "output_type": "execute_result"
    }
   ],
   "source": [
    "list(u2c3eop)"
   ]
  },
  {
   "cell_type": "markdown",
   "id": "44071ead-278c-4b86-b9b4-f9fa244db85e",
   "metadata": {},
   "source": [
    "## Ideal Json format"
   ]
  },
  {
   "cell_type": "code",
   "execution_count": null,
   "id": "6f2de51f-658c-4d2d-9af9-8e8ebf16a66a",
   "metadata": {},
   "outputs": [],
   "source": [
    "{\n",
    "  \"id\": \"68d7308972ebf4f11406e52d\",\n",
    "  \"game\": \"mhs\",\n",
    "  \"playerId\": \"wenyi4@mhs\",\n",
    "  \"timestamp\": \"2025-09-27T00:32:9.586Z\",\n",
    "  \"eventType\": \"DialogueEvent\",\n",
    "  \"eventKey\": \"dialogue:22:18\", \n",
    "  \"data\": {\n",
    "    \"dialogueEventType\": \"DialogueNodeEvent\",\n",
    "    \"conversationId\": 22,\n",
    "    \"nodeId\": 18 \n",
    "  },\n",
    "  \"device\": {\n",
    "    \"platform\": \"WebGLPlayer\",\n",
    "    \"browser\": \"WebGL_Browser\"\n",
    "  }\n",
    "}"
   ]
  },
  {
   "cell_type": "markdown",
   "id": "90876981-921c-49fb-8075-0f48786e03ba",
   "metadata": {},
   "source": [
    "## Ideal query\n",
    "### With eventKey"
   ]
  },
  {
   "cell_type": "code",
   "execution_count": null,
   "id": "eaf7be6c-78ff-46e6-b5bf-e965bc65b0c4",
   "metadata": {},
   "outputs": [],
   "source": [
    "players = coll.distinct(\n",
    "        \"playerId\",\n",
    "        {\"game\": \"mhs\", \"eventKey\": \"dialogue:22:18\"})"
   ]
  },
  {
   "cell_type": "markdown",
   "id": "ccf0c7b7-eeaf-4962-8672-f4e838b0ab3d",
   "metadata": {},
   "source": [
    "### Without eventKey"
   ]
  },
  {
   "cell_type": "code",
   "execution_count": null,
   "id": "0d5f3f8d-46c2-45bd-8a5c-c575be8b2a69",
   "metadata": {},
   "outputs": [],
   "source": [
    "players = coll.distinct(\n",
    "    \"playerId\",\n",
    "    {\n",
    "        \"game\": \"mhs\",\n",
    "        \"eventType\": \"DialogueEvent\",\n",
    "        \"data.dialogueEventType\": \"DialogueNodeEvent\",\n",
    "        \"data.conversationId\": 22,\n",
    "        \"data.nodeId\": 18\n",
    "    }\n",
    ")"
   ]
  },
  {
   "cell_type": "code",
   "execution_count": null,
   "id": "e794f934-5de9-4b3c-9473-b16364312afb",
   "metadata": {},
   "outputs": [],
   "source": [
    "all_players = set(coll.distinct(\"playerId\", {\"game\": \"mhs\"}))\n",
    "completed  = set(players)\n",
    "white = sorted(all_players - completed)"
   ]
  },
  {
   "cell_type": "markdown",
   "id": "f05166c2-2339-4197-98a7-d8bf570d61e8",
   "metadata": {},
   "source": [
    "# U2.C4\n",
    "In this progress point, players need to place the glyphs on the wall based on the humidity level. The color will represent how many attempts they used to arrange the glyphs correctly. If players arrange the glyphs correctly within five attempts, and place glyphs by themselves, the color will be green; otherwise, it will be yellow."
   ]
  },
  {
   "cell_type": "markdown",
   "id": "47528d13-a5b2-44bd-92dc-cd6f05b30206",
   "metadata": {},
   "source": [
    "## Current Json format"
   ]
  },
  {
   "cell_type": "code",
   "execution_count": 29,
   "id": "a1801386-eae5-4524-8289-9aadd7f5de96",
   "metadata": {},
   "outputs": [],
   "source": [
    "u2c4eop = coll.find(\n",
    "    {\"player_id\": \"wenyi4@mhs\", \"event_type\": \"DialogueEvent\",\n",
    "        \"$and\": [\n",
    "            {\"event_data\": {\"$regex\": r'\"dialogueEventType\"\\s*:\\s*\"DialogueNodeEvent\"'}},\n",
    "            {\"event_data\": {\"$regex\": r'\"conversationId\"\\s*:\\s*\"23\"'}},\n",
    "            {\"event_data\": {\"$regex\": r'\"nodeId\"\\s*:\\s*\"17\"'}}\n",
    "        ]}\n",
    ")"
   ]
  },
  {
   "cell_type": "code",
   "execution_count": 30,
   "id": "d0aeeaed-48cb-4796-9d85-b3d4c089d52b",
   "metadata": {},
   "outputs": [
    {
     "data": {
      "text/plain": [
       "[{'_id': ObjectId('68d731f272ebf4f11406e56d'),\n",
       "  'game': 'mhs',\n",
       "  'player_id': 'wenyi4@mhs',\n",
       "  'timestamp': datetime.datetime(2025, 9, 27, 0, 38, 10, 416000),\n",
       "  'event_type': 'DialogueEvent',\n",
       "  'event_data': '{\"dialogueEventType\":\"DialogueNodeEvent\",\"conversationId\":\"23\",\"nodeId\":\"17\"}',\n",
       "  'device_info': {'platform': 'WebGLPlayer', 'browser': 'WebGL_Browser'}}]"
      ]
     },
     "execution_count": 30,
     "metadata": {},
     "output_type": "execute_result"
    }
   ],
   "source": [
    "list(u2c4eop)"
   ]
  },
  {
   "cell_type": "markdown",
   "id": "5031331d-920c-40dd-b25b-c46ac7f3af37",
   "metadata": {},
   "source": [
    "## Ideal Json format"
   ]
  },
  {
   "cell_type": "code",
   "execution_count": null,
   "id": "9159f668-f555-43b4-b66f-7bfbbbd18a46",
   "metadata": {},
   "outputs": [],
   "source": [
    "{\n",
    "  \"id\": \"68d731f272ebf4f11406e56d\",\n",
    "  \"game\": \"mhs\",\n",
    "  \"playerId\": \"wenyi4@mhs\",\n",
    "  \"timestamp\": \"2025-09-27T00:38:10.416Z\",\n",
    "  \"eventType\": \"DialogueEvent\",\n",
    "  \"eventKey\": \"dialogue:23:17\", \n",
    "  \"data\": {\n",
    "    \"dialogueEventType\": \"DialogueNodeEvent\",\n",
    "    \"conversationId\": 23,\n",
    "    \"nodeId\": 17 \n",
    "  },\n",
    "  \"device\": {\n",
    "    \"platform\": \"WebGLPlayer\",\n",
    "    \"browser\": \"WebGL_Browser\"\n",
    "  }\n",
    "}"
   ]
  },
  {
   "cell_type": "markdown",
   "id": "b17226f1-6f8c-47aa-a4ed-a60e2c63af12",
   "metadata": {},
   "source": [
    "## Ideal query\n",
    "### With eventKey"
   ]
  },
  {
   "cell_type": "code",
   "execution_count": null,
   "id": "bcbcc74a-464f-43a6-a33c-fc1ff5490456",
   "metadata": {},
   "outputs": [],
   "source": [
    "players = coll.distinct(\n",
    "        \"playerId\",\n",
    "        {\"game\": \"mhs\", \"eventKey\": \"dialogue:23:17\"})"
   ]
  },
  {
   "cell_type": "markdown",
   "id": "058f162b-b774-4473-8905-d2448efe12c3",
   "metadata": {},
   "source": [
    "### Without eventKey"
   ]
  },
  {
   "cell_type": "code",
   "execution_count": null,
   "id": "50819af5-cac2-4031-b077-698c7fa7f8a7",
   "metadata": {},
   "outputs": [],
   "source": [
    "players = coll.distinct(\n",
    "    \"playerId\",\n",
    "    {\n",
    "        \"game\": \"mhs\",\n",
    "        \"eventType\": \"DialogueEvent\",\n",
    "        \"data.dialogueEventType\": \"DialogueNodeEvent\",\n",
    "        \"data.conversationId\": 23,\n",
    "        \"data.nodeId\": 17\n",
    "    }\n",
    ")"
   ]
  },
  {
   "cell_type": "code",
   "execution_count": null,
   "id": "a5a2d62d-b089-42ba-ac3c-1701af853e5d",
   "metadata": {},
   "outputs": [],
   "source": [
    "all_players = set(coll.distinct(\"playerId\", {\"game\": \"mhs\"}))\n",
    "completed  = set(players)\n",
    "white = sorted(all_players - completed)"
   ]
  },
  {
   "cell_type": "markdown",
   "id": "004c05f4-38f2-4ab7-9362-598f5073c2fc",
   "metadata": {},
   "source": [
    "# U2.C5\n",
    "In this progress point, players need to figure out the correct argumentation component based on the text descriptions. Once the player chooses the correct one, positive feedback will be given; otherwise, a negative one will trigger. By calculating the score of summing positive and negative points together, we can know the color of the corresponding block. Yellow if the score is less than four; Green if the score is equal to or larger than four; White if the player didn't complete the progress point."
   ]
  },
  {
   "cell_type": "markdown",
   "id": "8b611c7f-30ee-4ee0-8992-3cc0ab0fccd3",
   "metadata": {},
   "source": [
    "## Current Json format"
   ]
  },
  {
   "cell_type": "code",
   "execution_count": 31,
   "id": "d02912c8-cf67-42da-851e-b688ce62b9e5",
   "metadata": {},
   "outputs": [],
   "source": [
    "u2c5eop = coll.find(\n",
    "    {\"player_id\": \"wenyi4@mhs\", \"event_type\": \"DialogueEvent\",\n",
    "        \"$and\": [\n",
    "            {\"event_data\": {\"$regex\": r'\"dialogueEventType\"\\s*:\\s*\"DialogueNodeEvent\"'}},\n",
    "            {\"event_data\": {\"$regex\": r'\"conversationId\"\\s*:\\s*\"23\"'}},\n",
    "            {\"event_data\": {\"$regex\": r'\"nodeId\"\\s*:\\s*\"42\"'}}\n",
    "        ]}\n",
    ")"
   ]
  },
  {
   "cell_type": "code",
   "execution_count": 32,
   "id": "4d3a44fb-6dbb-4a9f-ad66-f9b5e630e936",
   "metadata": {},
   "outputs": [
    {
     "data": {
      "text/plain": [
       "[{'_id': ObjectId('68d733c072ebf4f11406e607'),\n",
       "  'game': 'mhs',\n",
       "  'player_id': 'wenyi4@mhs',\n",
       "  'timestamp': datetime.datetime(2025, 9, 27, 0, 45, 52, 867000),\n",
       "  'event_type': 'DialogueEvent',\n",
       "  'event_data': '{\"dialogueEventType\":\"DialogueNodeEvent\",\"conversationId\":\"23\",\"nodeId\":\"42\"}',\n",
       "  'device_info': {'platform': 'WebGLPlayer', 'browser': 'WebGL_Browser'}}]"
      ]
     },
     "execution_count": 32,
     "metadata": {},
     "output_type": "execute_result"
    }
   ],
   "source": [
    "list(u2c5eop)"
   ]
  },
  {
   "cell_type": "markdown",
   "id": "39595809-3713-4aa4-a7d2-5942c742d6ef",
   "metadata": {},
   "source": [
    "## Ideal Json format"
   ]
  },
  {
   "cell_type": "code",
   "execution_count": null,
   "id": "6423903f-3343-4adf-a981-0a18f79de493",
   "metadata": {},
   "outputs": [],
   "source": [
    "{\n",
    "  \"id\": \"68d733c072ebf4f11406e607\",\n",
    "  \"game\": \"mhs\",\n",
    "  \"playerId\": \"wenyi4@mhs\",\n",
    "  \"timestamp\": \"2025-09-27T00:45:52.867Z\",\n",
    "  \"eventType\": \"DialogueEvent\",\n",
    "  \"eventKey\": \"dialogue:23:42\", \n",
    "  \"data\": {\n",
    "    \"dialogueEventType\": \"DialogueNodeEvent\",\n",
    "    \"conversationId\": 23,\n",
    "    \"nodeId\": 42 \n",
    "  },\n",
    "  \"device\": {\n",
    "    \"platform\": \"WebGLPlayer\",\n",
    "    \"browser\": \"WebGL_Browser\"\n",
    "  }\n",
    "}"
   ]
  },
  {
   "cell_type": "markdown",
   "id": "74a6c672-7da2-437a-ba55-e04740a30471",
   "metadata": {},
   "source": [
    "## Ideal query\n",
    "### With eventKey"
   ]
  },
  {
   "cell_type": "code",
   "execution_count": null,
   "id": "0e75d69b-66f6-4ebc-927e-143cd427607b",
   "metadata": {},
   "outputs": [],
   "source": [
    "players = coll.distinct(\n",
    "        \"playerId\",\n",
    "        {\"game\": \"mhs\", \"eventKey\": \"dialogue:23:42\"})"
   ]
  },
  {
   "cell_type": "markdown",
   "id": "b09efaf1-beba-4bdd-a78e-9644e0eef337",
   "metadata": {},
   "source": [
    "### Without eventKey"
   ]
  },
  {
   "cell_type": "code",
   "execution_count": null,
   "id": "ece9c567-f2c6-470c-b937-4d90a70c3a88",
   "metadata": {},
   "outputs": [],
   "source": [
    "players = coll.distinct(\n",
    "    \"playerId\",\n",
    "    {\n",
    "        \"game\": \"mhs\",\n",
    "        \"eventType\": \"DialogueEvent\",\n",
    "        \"data.dialogueEventType\": \"DialogueNodeEvent\",\n",
    "        \"data.conversationId\": 23,\n",
    "        \"data.nodeId\": 42\n",
    "    }\n",
    ")"
   ]
  },
  {
   "cell_type": "code",
   "execution_count": null,
   "id": "3b6f3a23-5e54-4bba-981e-1fa3616d5c04",
   "metadata": {},
   "outputs": [],
   "source": [
    "all_players = set(coll.distinct(\"playerId\", {\"game\": \"mhs\"}))\n",
    "completed  = set(players)\n",
    "white = sorted(all_players - completed)"
   ]
  },
  {
   "cell_type": "markdown",
   "id": "8747447f-c5cb-47c3-bbbd-05705e0a1392",
   "metadata": {},
   "source": [
    "# U2.C6\n",
    "In this progress point, Dr. Toppo will ask players what is the key factors that determine the watershed size, if the player chose the \"flow rate\", then the color is green, other choices will lead to yellow. If the players didn't complete this progress then the color will be white."
   ]
  },
  {
   "cell_type": "markdown",
   "id": "93c1303c-1232-46c8-aca0-39b14044059e",
   "metadata": {},
   "source": [
    "## Current Json format"
   ]
  },
  {
   "cell_type": "code",
   "execution_count": 33,
   "id": "452a58bb-09ec-42ca-8a33-6d6a8a8add9b",
   "metadata": {},
   "outputs": [],
   "source": [
    "u2c6eop = coll.find(\n",
    "    {\"player_id\": \"wenyi4@mhs\", \"event_type\": \"DialogueEvent\",\n",
    "        \"$and\": [\n",
    "            {\"event_data\": {\"$regex\": r'\"dialogueEventType\"\\s*:\\s*\"DialogueNodeEvent\"'}},\n",
    "            {\"event_data\": {\"$regex\": r'\"conversationId\"\\s*:\\s*\"18\"'}},\n",
    "            {\"event_data\": {\"$regex\": r'\"nodeId\"\\s*:\\s*\"284\"'}}\n",
    "        ]}\n",
    ")"
   ]
  },
  {
   "cell_type": "code",
   "execution_count": 34,
   "id": "80a0319f-1fef-4c6d-866c-cf9c21aad53e",
   "metadata": {},
   "outputs": [
    {
     "data": {
      "text/plain": [
       "[{'_id': ObjectId('68d735fd72ebf4f11406e64a'),\n",
       "  'game': 'mhs',\n",
       "  'player_id': 'wenyi4@mhs',\n",
       "  'timestamp': datetime.datetime(2025, 9, 27, 0, 55, 25, 148000),\n",
       "  'event_type': 'DialogueEvent',\n",
       "  'event_data': '{\"dialogueEventType\":\"DialogueNodeEvent\",\"conversationId\":\"18\",\"nodeId\":\"284\"}',\n",
       "  'device_info': {'platform': 'WebGLPlayer', 'browser': 'WebGL_Browser'}}]"
      ]
     },
     "execution_count": 34,
     "metadata": {},
     "output_type": "execute_result"
    }
   ],
   "source": [
    "list(u2c6eop)"
   ]
  },
  {
   "cell_type": "markdown",
   "id": "e25e50bf-9163-463e-a81b-9cb37f786c5d",
   "metadata": {},
   "source": [
    "## Ideal Json format"
   ]
  },
  {
   "cell_type": "code",
   "execution_count": null,
   "id": "515da4ba-593b-4d1a-9789-65e10c15e1ba",
   "metadata": {},
   "outputs": [],
   "source": [
    "{\n",
    "  \"id\": \"68d735fd72ebf4f11406e64a\",\n",
    "  \"game\": \"mhs\",\n",
    "  \"playerId\": \"wenyi4@mhs\",\n",
    "  \"timestamp\": \"2025-09-27T00:55:25.148Z\",\n",
    "  \"eventType\": \"DialogueEvent\",\n",
    "  \"eventKey\": \"dialogue:18:284\", \n",
    "  \"data\": {\n",
    "    \"dialogueEventType\": \"DialogueNodeEvent\",\n",
    "    \"conversationId\": 18,\n",
    "    \"nodeId\": 284 \n",
    "  },\n",
    "  \"device\": {\n",
    "    \"platform\": \"WebGLPlayer\",\n",
    "    \"browser\": \"WebGL_Browser\"\n",
    "  }\n",
    "}"
   ]
  },
  {
   "cell_type": "markdown",
   "id": "d1c80d5e-8a99-4004-bccb-9b5cefb8714f",
   "metadata": {},
   "source": [
    "## Ideal query\n",
    "### With eventKey"
   ]
  },
  {
   "cell_type": "code",
   "execution_count": null,
   "id": "2cbb90d5-5224-4e1c-9e8c-e01a98b672af",
   "metadata": {},
   "outputs": [],
   "source": [
    "players = coll.distinct(\n",
    "        \"playerId\",\n",
    "        {\"game\": \"mhs\", \"eventKey\": \"dialogue:18:284\"})"
   ]
  },
  {
   "cell_type": "markdown",
   "id": "40f4e925-d033-4680-a5f8-70b31eb352e3",
   "metadata": {},
   "source": [
    "### Without eventKey"
   ]
  },
  {
   "cell_type": "code",
   "execution_count": null,
   "id": "8bcbbeb4-b3b0-4688-9195-7c2ae8c3e5d1",
   "metadata": {},
   "outputs": [],
   "source": [
    "players = coll.distinct(\n",
    "    \"playerId\",\n",
    "    {\n",
    "        \"game\": \"mhs\",\n",
    "        \"eventType\": \"DialogueEvent\",\n",
    "        \"data.dialogueEventType\": \"DialogueNodeEvent\",\n",
    "        \"data.conversationId\": 18,\n",
    "        \"data.nodeId\": 284\n",
    "    }\n",
    ")"
   ]
  },
  {
   "cell_type": "code",
   "execution_count": null,
   "id": "15ac83c3-22c1-4d81-bc6b-c218edce27f8",
   "metadata": {},
   "outputs": [],
   "source": [
    "all_players = set(coll.distinct(\"playerId\", {\"game\": \"mhs\"}))\n",
    "completed  = set(players)\n",
    "white = sorted(all_players - completed)"
   ]
  },
  {
   "cell_type": "markdown",
   "id": "0bfc4a98-0fdd-4f30-9030-cf3a1895d399",
   "metadata": {},
   "source": [
    "# U2.C7\n",
    "During this progress point, players will complete the scientific argumentation of this unit. For relevant feedback dialogue of this quest, only one feedback is the positive one (if the argumentation is correct), others are negative ones. If the player got a positive feedback and the negative feedback count is less than or equal to 3, then the color is green, otherwise the color is yellow. If the players didn't complete the progress, then the color is white."
   ]
  },
  {
   "cell_type": "markdown",
   "id": "1c7f33d5-ddf3-4045-a924-7dc8d881e95e",
   "metadata": {},
   "source": [
    "## Current Json format"
   ]
  },
  {
   "cell_type": "code",
   "execution_count": 35,
   "id": "f0803f3c-7d22-4939-ac98-9827c368f5cd",
   "metadata": {},
   "outputs": [],
   "source": [
    "u2c7eop = coll.find(\n",
    "    {\"player_id\": \"wenyi4@mhs\", \"event_type\": \"DialogueEvent\",\n",
    "        \"$and\": [\n",
    "            {\"event_data\": {\"$regex\": r'\"dialogueEventType\"\\s*:\\s*\"DialogueNodeEvent\"'}},\n",
    "            {\"event_data\": {\"$regex\": r'\"conversationId\"\\s*:\\s*\"20\"'}},\n",
    "            {\"event_data\": {\"$regex\": r'\"nodeId\"\\s*:\\s*\"(74|75)\"'}}\n",
    "        ]}\n",
    ")"
   ]
  },
  {
   "cell_type": "code",
   "execution_count": 36,
   "id": "206a9375-c95a-4dbd-9fc6-7af324284f6e",
   "metadata": {},
   "outputs": [
    {
     "data": {
      "text/plain": [
       "[{'_id': ObjectId('68d7363972ebf4f11406e67a'),\n",
       "  'game': 'mhs',\n",
       "  'player_id': 'wenyi4@mhs',\n",
       "  'timestamp': datetime.datetime(2025, 9, 27, 0, 56, 25, 309000),\n",
       "  'event_type': 'DialogueEvent',\n",
       "  'event_data': '{\"dialogueEventType\":\"DialogueNodeEvent\",\"conversationId\":\"20\",\"nodeId\":\"74\"}',\n",
       "  'device_info': {'platform': 'WebGLPlayer', 'browser': 'WebGL_Browser'}}]"
      ]
     },
     "execution_count": 36,
     "metadata": {},
     "output_type": "execute_result"
    }
   ],
   "source": [
    "list(u2c7eop)"
   ]
  },
  {
   "cell_type": "markdown",
   "id": "a64fc0b8-7c80-4c3d-b2b0-5f908496e9e0",
   "metadata": {},
   "source": [
    "## Ideal Json format"
   ]
  },
  {
   "cell_type": "code",
   "execution_count": null,
   "id": "7724d8dd-8f01-4984-85a1-1a254fb6b677",
   "metadata": {},
   "outputs": [],
   "source": [
    "{\n",
    "  \"id\": \"68d735fd72ebf4f11406e64a\",\n",
    "  \"game\": \"mhs\",\n",
    "  \"playerId\": \"wenyi4@mhs\",\n",
    "  \"timestamp\": \"2025-09-27T00:55:25.148Z\",\n",
    "  \"eventType\": \"DialogueEvent\",\n",
    "  \"eventKey\": \"dialogue::284\", \n",
    "  \"data\": {\n",
    "    \"dialogueEventType\": \"DialogueNodeEvent\",\n",
    "    \"conversationId\": 20,\n",
    "    \"nodeId\": 74 \n",
    "  },\n",
    "  \"device\": {\n",
    "    \"platform\": \"WebGLPlayer\",\n",
    "    \"browser\": \"WebGL_Browser\"\n",
    "  }\n",
    "}"
   ]
  },
  {
   "cell_type": "code",
   "execution_count": null,
   "id": "60b526ee-8e7b-4b22-aced-3970bb923f8a",
   "metadata": {},
   "outputs": [],
   "source": [
    "{\n",
    "  \"id\": \"68d735fd72ebf4f11406e64a\",\n",
    "  \"game\": \"mhs\",\n",
    "  \"playerId\": \"wenyi4@mhs\",\n",
    "  \"timestamp\": \"2025-09-27T00:55:25.148Z\",\n",
    "  \"eventType\": \"DialogueEvent\",\n",
    "  \"eventKey\": \"dialogue:18:284\", \n",
    "  \"data\": {\n",
    "    \"dialogueEventType\": \"DialogueNodeEvent\",\n",
    "    \"conversationId\": 20,\n",
    "    \"nodeId\": 75 \n",
    "  },\n",
    "  \"device\": {\n",
    "    \"platform\": \"WebGLPlayer\",\n",
    "    \"browser\": \"WebGL_Browser\"\n",
    "  }\n",
    "}"
   ]
  },
  {
   "cell_type": "markdown",
   "id": "232e9a4b-c0d5-4fcd-b29e-28764139bf26",
   "metadata": {},
   "source": [
    "## Ideal query\n",
    "### With eventKey"
   ]
  },
  {
   "cell_type": "code",
   "execution_count": null,
   "id": "8c4a4d1e-c65c-4c18-b1fa-110ecade3922",
   "metadata": {},
   "outputs": [],
   "source": [
    "players = coll.distinct(\n",
    "        \"playerId\",\n",
    "        {\"game\": \"mhs\", \n",
    "         \"eventKey\": {\"$in\": [\"dialogue:20:74\", \"dialogue:20:75\"]}})"
   ]
  },
  {
   "cell_type": "markdown",
   "id": "89cfba4e-9c98-448c-a7d2-2e9a2a280f60",
   "metadata": {},
   "source": [
    "### Without eventKey"
   ]
  },
  {
   "cell_type": "code",
   "execution_count": null,
   "id": "5e342c55-2998-4b9a-9824-192da4a914c9",
   "metadata": {},
   "outputs": [],
   "source": [
    "players = coll.distinct(\n",
    "    \"playerId\",\n",
    "    {\n",
    "        \"game\": \"mhs\",\n",
    "        \"eventType\": \"DialogueEvent\",\n",
    "        \"data.dialogueEventType\": \"DialogueNodeEvent\",\n",
    "        \"data.conversationId\": 20,\n",
    "        \"data.nodeId\": {\"$in\": [74, 75]}\n",
    "    }\n",
    ")"
   ]
  },
  {
   "cell_type": "code",
   "execution_count": null,
   "id": "3f68085b-3908-48d5-b44e-865417822ba8",
   "metadata": {},
   "outputs": [],
   "source": [
    "all_players = set(coll.distinct(\"playerId\", {\"game\": \"mhs\"}))\n",
    "completed  = set(players)\n",
    "white = sorted(all_players - completed)"
   ]
  }
 ],
 "metadata": {
  "kernelspec": {
   "display_name": "Python 3 (ipykernel)",
   "language": "python",
   "name": "python3"
  },
  "language_info": {
   "codemirror_mode": {
    "name": "ipython",
    "version": 3
   },
   "file_extension": ".py",
   "mimetype": "text/x-python",
   "name": "python",
   "nbconvert_exporter": "python",
   "pygments_lexer": "ipython3",
   "version": "3.12.11"
  }
 },
 "nbformat": 4,
 "nbformat_minor": 5
}
