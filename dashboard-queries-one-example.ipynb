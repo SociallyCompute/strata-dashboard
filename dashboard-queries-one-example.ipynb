{
 "cells": [
  {
   "cell_type": "markdown",
   "id": "46ce31b0-057d-4a7c-9523-62d8159c7114",
   "metadata": {},
   "source": [
    "# U1.C3"
   ]
  },
  {
   "cell_type": "markdown",
   "id": "faeed187-1a76-483a-95ae-4305900eaf9a",
   "metadata": {},
   "source": [
    "During this progress point, players talked with Dr. Toppo and watched her argumentation tutorials and completed two sections of the argumentation. White means not completing this progress; Green means submitting the correct argument at the first attempt; Yellow means submitting the correct argument using more than one attempt."
   ]
  },
  {
   "cell_type": "code",
   "execution_count": null,
   "id": "408c65d5-62a7-4bca-b370-98b7aa117bbd",
   "metadata": {},
   "outputs": [],
   "source": [
    "pids = [\n",
    "    \"sean3@mhs\",\n",
    "    \"wenyi3@mhs\",\n",
    "    \"sean1@mhs\",\n",
    "]"
   ]
  },
  {
   "cell_type": "markdown",
   "id": "1cf85187",
   "metadata": {},
   "source": [
    "### How to Address The Query Below With a Revised Message from the MHS Game\n",
    "\n",
    "Core Idea: If we include an object called `event_key` in the message from the game, there is almost no calculation/compute time required on the server ... Explained next in the list: \n",
    "\n",
    "1. If we make the strings objects in the ordinary JSON sense, then we will be able to process this significantly more quickly. \n",
    "2. Current Logic: \n",
    "    - 34 (quest ID): This node indicates the student has completed the progress point. This node will default the color to white if false. Color can still change based on subsequent criteria. \n",
    "    - (these are dialogue and nodeIDs) 70-33 and 70-25 or [70/33] or [70/25]: These node IDs indicate successful completion of the progress point. These nodes are only accessed if students make several attempts to complete the corresponding quest. Then Yellow\n",
    "    - Otherwise Green \n",
    "3. Goal Logic (How the game would instantiate and modify an `event_key`): \n",
    "    - Ideal: Add a variable to the API, such as `event_key`, which will indicate whether it is a \"question finish event\". If this key is not NULL, then we know with that piece of data whether the color is white, yellow, or green. \n",
    "    - at 34: If FALSE `event_key` is white\n",
    "    - at 70/33 and 70/25: If either of the pairs are true, `event_key` is yellow. \n",
    "    - otherwise, `event_key` is green. \n",
    "\n",
    "**Sean thought: if the `event_data` includes an `event_key` that is passed as an object instead of a string that needs to be parsed (regex), then that may be sufficient.** Could also possibly be set elsewhere. Sean is trying to consider the various trade-offs of where the logic lives. \n",
    "\n",
    "#### Game Side Possibilities (As Wenyi and Sean are Considering Them)\n",
    "1. Include `event_key` with all the following event types\n",
    "2. the `dialogue_node_event` AND \n",
    "3. the `quest_finish_event` \n",
    "\n",
    "**CODING STANDARD NOTE:** It is better to use object names like `eventKey` than `event_key`. \n",
    "\n",
    "#### Query\n"
   ]
  },
  {
   "cell_type": "code",
   "execution_count": null,
   "id": "b46aebb0-b2c3-4cea-9732-38b3310d3eaa",
   "metadata": {},
   "outputs": [],
   "source": [
    "def color_u1c3_for_pid(coll, pid):\n",
    "    \n",
    "    has_q34 = coll.count_documents({\n",
    "        \"player_id\": pid,\n",
    "        \"event_type\": \"questEvent\",\n",
    "        \"$and\": [\n",
    "            {\"event_data\": {\"$regex\": r'\"questEventType\"\\s*:\\s*\"questActiveEvent\"'}},\n",
    "            {\"event_data\": {\"$regex\": r'\"questID\"\\s*:\\s*\"34\"'}}\n",
    "        ]\n",
    "    }) > 0\n",
    "\n",
    "    if not has_q34:\n",
    "        return \"white\"\n",
    "\n",
    "    has_node_33_or_25 = coll.count_documents({\n",
    "        \"player_id\": pid,\n",
    "        \"event_type\": \"DialogueEvent\",\n",
    "        \"$and\": [\n",
    "            {\"event_data\": {\"$regex\": r'\"dialogueEventType\"\\s*:\\s*\"DialogueNodeEvent\"'}},\n",
    "            {\"event_data\": {\"$regex\": r'\"conversationId\"\\s*:\\s*\"70\"'}},\n",
    "            {\"event_data\": {\"$regex\": r'\"nodeId\"\\s*:\\s*\"(33|25)\"'}}\n",
    "        ]\n",
    "    }) > 0\n",
    "\n",
    "    return \"yellow\" if has_node_33_or_25 else \"green\""
   ]
  },
  {
   "cell_type": "code",
   "execution_count": null,
   "id": "cf50bf07-6c34-473f-ab0a-712db9376a3c",
   "metadata": {},
   "outputs": [
    {
     "data": {
      "text/plain": [
       "{'sean3@mhs': 'green', 'wenyi3@mhs': 'yellow', 'sean1@mhs': 'white'}"
      ]
     },
     "execution_count": 255,
     "metadata": {},
     "output_type": "execute_result"
    }
   ],
   "source": [
    "pids_u1c3_to_color = {pid: color_u1c3_for_pid(coll, pid) for pid in pids}\n",
    "pids_u1c3_to_color"
   ]
  },
  {
   "cell_type": "markdown",
   "id": "68b06529-1f7d-42ad-adb8-7a636a7861c2",
   "metadata": {},
   "source": [
    "### Additional thoughts based on the understanding of the last meeting regarding the process and refined queries.\n",
    "If the data format has been refined and contains an eventKey for all questActiveEvent, questFinishEvent, and dialogueNodeEvent, the example formats of those three events should be like:"
   ]
  },
  {
   "cell_type": "code",
   "execution_count": null,
   "id": "3a41c2c7-e385-4477-af38-d505d8fb6da2",
   "metadata": {},
   "outputs": [],
   "source": [
    "{\n",
    "  \"playerId\": \"alice@example.com\",\n",
    "  \"timestamp\": \"2025-09-29T22:02:51.04Z\",\n",
    "  \"eventType\": \"DialogueEvent\",\n",
    "  \"data\": { \n",
    "      \"dialogueEventType\":\"DialogueNodeEvent\", \n",
    "      \"conversationId\":95, \n",
    "      \"nodeId\":41 \n",
    "  },\n",
    "  \"eventKey\": \"dialogue:95:41\"\n",
    "}"
   ]
  },
  {
   "cell_type": "code",
   "execution_count": null,
   "id": "4e3e4a2d-fe80-4525-874d-92839266d0a1",
   "metadata": {},
   "outputs": [],
   "source": [
    "{\n",
    "  \"playerId\": \"alice@example.com\",\n",
    "  \"timestamp\": \"2025-09-29T22:02:51.04Z\",\n",
    "  \"eventType\": \"questEvent\",\n",
    "  \"data\": { \n",
    "      \"questEventType\":\"questActiveEvent\", \n",
    "      \"questID\":34 \n",
    "  },\n",
    "  \"eventKey\": \"quest:active:34\"\n",
    "}"
   ]
  },
  {
   "cell_type": "code",
   "execution_count": null,
   "id": "49eb910b-8bd5-4feb-9811-0b9b3a2a8147",
   "metadata": {},
   "outputs": [],
   "source": [
    "{\n",
    "  \"playerId\": \"alice@example.com\",\n",
    "  \"timestamp\": \"2025-09-29T22:02:51.04Z\",\n",
    "  \"eventType\": \"questEvent\",\n",
    "  \"data\": { \n",
    "      \"questEventType\":\"questFinishEvent\", \n",
    "      \"questID\":34 \n",
    "  },\n",
    "  \"eventKey\": \"quest:finish:34\"\n",
    "}"
   ]
  },
  {
   "cell_type": "markdown",
   "id": "52ac6e78-bb95-4415-8929-9a2e1cc2796f",
   "metadata": {},
   "source": [
    "And the new query should be somthing like"
   ]
  },
  {
   "cell_type": "code",
   "execution_count": null,
   "id": "4fba2335-d175-4b77-b7b8-80d8d0b64c61",
   "metadata": {},
   "outputs": [],
   "source": [
    "def color_u1c3_for_pid(coll, pid):\n",
    "    if coll.count_documents({\"playerId\": pid, \"eventKey\": \"quest:active:34\"}) == 0:\n",
    "        return \"white\"\n",
    "\n",
    "    has_node_33_or_25 = coll.count_documents({\n",
    "        \"playerId\": pid,\n",
    "        \"eventKey\": {\"$in\": [\"dialogue:70:33\", \"dialogue:70:25\"]}\n",
    "    }) > 0\n",
    "\n",
    "    return \"yellow\" if has_node_33_or_25 else \"green\""
   ]
  }
 ],
 "metadata": {
  "kernelspec": {
   "display_name": "Python 3 (ipykernel)",
   "language": "python",
   "name": "python3"
  },
  "language_info": {
   "codemirror_mode": {
    "name": "ipython",
    "version": 3
   },
   "file_extension": ".py",
   "mimetype": "text/x-python",
   "name": "python",
   "nbconvert_exporter": "python",
   "pygments_lexer": "ipython3",
   "version": "3.12.11"
  }
 },
 "nbformat": 4,
 "nbformat_minor": 5
}
